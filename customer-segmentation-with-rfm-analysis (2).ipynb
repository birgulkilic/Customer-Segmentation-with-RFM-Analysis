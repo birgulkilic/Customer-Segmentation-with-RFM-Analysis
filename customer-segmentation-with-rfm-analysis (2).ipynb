{
 "cells": [
  {
   "cell_type": "markdown",
   "id": "c88630d3",
   "metadata": {
    "papermill": {
     "duration": 0.012533,
     "end_time": "2025-02-05T15:44:02.888304",
     "exception": false,
     "start_time": "2025-02-05T15:44:02.875771",
     "status": "completed"
    },
    "tags": []
   },
   "source": [
    "# 🔎 Exploring Customer Segmentation with RFM Analysis 💡"
   ]
  },
  {
   "attachments": {
    "b1aca9b6-6ce8-44d7-aaed-fe27222d281b.png": {
     "image/png": "[encoded data removed]"
    }
   },
   "cell_type": "markdown",
   "id": "72125383",
   "metadata": {
    "papermill": {
     "duration": 0.011808,
     "end_time": "2025-02-05T15:44:02.911939",
     "exception": false,
     "start_time": "2025-02-05T15:44:02.900131",
     "status": "completed"
    },
    "tags": []
   },
   "source": [
    "![631af3fff0eb1c589076a1b4_RFM-Segmentation-Labeling-Segments.png](attachment:b1aca9b6-6ce8-44d7-aaed-fe27222d281b.png)"
   ]
  },
  {
   "cell_type": "markdown",
   "id": "bcc4e8da",
   "metadata": {
    "papermill": {
     "duration": 0.010822,
     "end_time": "2025-02-05T15:44:02.934920",
     "exception": false,
     "start_time": "2025-02-05T15:44:02.924098",
     "status": "completed"
    },
    "tags": []
   },
   "source": [
    "# #Business Problem"
   ]
  },
  {
   "cell_type": "markdown",
   "id": "4944631a",
   "metadata": {
    "papermill": {
     "duration": 0.011542,
     "end_time": "2025-02-05T15:44:02.958063",
     "exception": false,
     "start_time": "2025-02-05T15:44:02.946521",
     "status": "completed"
    },
    "tags": []
   },
   "source": [
    "FLO is an online shoe store. They want to divide their customers into different groups and create marketing strategies for each group. To do this, customer behaviors will be analyzed, and groups will be created based on similar behaviors."
   ]
  },
  {
   "cell_type": "markdown",
   "id": "8167affb",
   "metadata": {
    "papermill": {
     "duration": 0.01272,
     "end_time": "2025-02-05T15:44:02.983666",
     "exception": false,
     "start_time": "2025-02-05T15:44:02.970946",
     "status": "completed"
    },
    "tags": []
   },
   "source": [
    "# #Dataset Story"
   ]
  },
  {
   "cell_type": "markdown",
   "id": "b8cd8341",
   "metadata": {
    "papermill": {
     "duration": 0.011956,
     "end_time": "2025-02-05T15:44:03.007706",
     "exception": false,
     "start_time": "2025-02-05T15:44:02.995750",
     "status": "completed"
    },
    "tags": []
   },
   "source": [
    "The dataset consists of information collected from customers who made purchases at FLO in 2020-2021. These customers are OmniChannel users (shopping both online and offline). The data is based on their past shopping behaviors."
   ]
  },
  {
   "cell_type": "markdown",
   "id": "a5d20c23",
   "metadata": {
    "papermill": {
     "duration": 0.012008,
     "end_time": "2025-02-05T15:44:03.031000",
     "exception": false,
     "start_time": "2025-02-05T15:44:03.018992",
     "status": "completed"
    },
    "tags": []
   },
   "source": [
    "**master_id**: Unique customer number\n",
    "\n",
    "**order_channel**: The channel used for shopping (Android, iOS, Desktop, Mobile, Offline)\n",
    "\n",
    "**last_order_channel**: The channel used for the most recent purchase\n",
    "\n",
    "**first_order_date**: The date of the customer's first purchase\n",
    "\n",
    "**last_order_date**: The date of the customer's most recent purchase\n",
    "\n",
    "**last_order_date_online**: The date of the most recent purchase on the online platform\n",
    "\n",
    "**last_order_date_offline**: The date of the most recent purchase on the offline platform\n",
    "\n",
    "**order_num_total_ever_online**: The total number of purchases the customer made online\n",
    "\n",
    "**order_num_total_ever_offline**: The total number of purchases the customer made offline\n",
    "\n",
    "**customer_value_total_ever_offline**: The total amount the customer paid for offline purchases\n",
    "\n",
    "**customer_value_total_ever_online**: The total amount the customer paid for online purchases\n",
    "\n",
    "**interested_in_categories_12**: The list of categories the customer has purchased from in the last 12 months"
   ]
  },
  {
   "cell_type": "markdown",
   "id": "6cf6289f",
   "metadata": {
    "papermill": {
     "duration": 0.011632,
     "end_time": "2025-02-05T15:44:03.054010",
     "exception": false,
     "start_time": "2025-02-05T15:44:03.042378",
     "status": "completed"
    },
    "tags": []
   },
   "source": [
    "# # Project Tasks"
   ]
  },
  {
   "cell_type": "markdown",
   "id": "dc4ba855",
   "metadata": {
    "papermill": {
     "duration": 0.010514,
     "end_time": "2025-02-05T15:44:03.075351",
     "exception": false,
     "start_time": "2025-02-05T15:44:03.064837",
     "status": "completed"
    },
    "tags": []
   },
   "source": [
    "# # Task 1: Data Understanding and Preparation"
   ]
  },
  {
   "cell_type": "markdown",
   "id": "9f581970",
   "metadata": {
    "papermill": {
     "duration": 0.011763,
     "end_time": "2025-02-05T15:44:03.098092",
     "exception": false,
     "start_time": "2025-02-05T15:44:03.086329",
     "status": "completed"
    },
    "tags": []
   },
   "source": [
    "Import the necessary libraries."
   ]
  },
  {
   "cell_type": "code",
   "execution_count": 1,
   "id": "d311054d",
   "metadata": {
    "execution": {
     "iopub.execute_input": "2025-02-05T15:44:03.123459Z",
     "iopub.status.busy": "2025-02-05T15:44:03.123038Z",
     "iopub.status.idle": "2025-02-05T15:44:04.230474Z",
     "shell.execute_reply": "2025-02-05T15:44:04.229299Z"
    },
    "papermill": {
     "duration": 1.122801,
     "end_time": "2025-02-05T15:44:04.232969",
     "exception": false,
     "start_time": "2025-02-05T15:44:03.110168",
     "status": "completed"
    },
    "tags": []
   },
   "outputs": [],
   "source": [
    "import datetime as dt\n",
    "import pandas as pd\n",
    "\n",
    "pd.set_option ('display.max_columns',50)\n",
    "pd.set_option ('display.max_rows',50)\n",
    "pd.set_option('display.float_format', lambda x: '%.3f' % x)"
   ]
  },
  {
   "cell_type": "markdown",
   "id": "3d1308c2",
   "metadata": {
    "papermill": {
     "duration": 0.011375,
     "end_time": "2025-02-05T15:44:04.265275",
     "exception": false,
     "start_time": "2025-02-05T15:44:04.253900",
     "status": "completed"
    },
    "tags": []
   },
   "source": [
    "**Step 1: Read the flo_data_20K.csv file. Create a copy of the dataframe.**"
   ]
  },
  {
   "cell_type": "code",
   "execution_count": 2,
   "id": "6faaf67a",
   "metadata": {
    "execution": {
     "iopub.execute_input": "2025-02-05T15:44:04.289973Z",
     "iopub.status.busy": "2025-02-05T15:44:04.289452Z",
     "iopub.status.idle": "2025-02-05T15:44:04.424242Z",
     "shell.execute_reply": "2025-02-05T15:44:04.423113Z"
    },
    "papermill": {
     "duration": 0.149322,
     "end_time": "2025-02-05T15:44:04.426321",
     "exception": false,
     "start_time": "2025-02-05T15:44:04.276999",
     "status": "completed"
    },
    "tags": []
   },
   "outputs": [],
   "source": [
    "df_ = pd.read_csv (\"/kaggle/input/rfm-analysis-for-customer-segmentation/flo_data_20k.csv\")\n",
    "df = df_.copy()"
   ]
  },
  {
   "cell_type": "markdown",
   "id": "5eb81bfd",
   "metadata": {
    "papermill": {
     "duration": 0.011294,
     "end_time": "2025-02-05T15:44:04.448976",
     "exception": false,
     "start_time": "2025-02-05T15:44:04.437682",
     "status": "completed"
    },
    "tags": []
   },
   "source": [
    "**Step 2: a )First 10 observations in the dataset**"
   ]
  },
  {
   "cell_type": "code",
   "execution_count": 3,
   "id": "359579a9",
   "metadata": {
    "execution": {
     "iopub.execute_input": "2025-02-05T15:44:04.473347Z",
     "iopub.status.busy": "2025-02-05T15:44:04.472967Z",
     "iopub.status.idle": "2025-02-05T15:44:04.505131Z",
     "shell.execute_reply": "2025-02-05T15:44:04.503880Z"
    },
    "papermill": {
     "duration": 0.045743,
     "end_time": "2025-02-05T15:44:04.507035",
     "exception": false,
     "start_time": "2025-02-05T15:44:04.461292",
     "status": "completed"
    },
    "tags": []
   },
   "outputs": [
    {
     "data": {
      "text/html": [
       "<div>\n",
       "<style scoped>\n",
       "    .dataframe tbody tr th:only-of-type {\n",
       "        vertical-align: middle;\n",
       "    }\n",
       "\n",
       "    .dataframe tbody tr th {\n",
       "        vertical-align: top;\n",
       "    }\n",
       "\n",
       "    .dataframe thead th {\n",
       "        text-align: right;\n",
       "    }\n",
       "</style>\n",
       "<table border=\"1\" class=\"dataframe\">\n",
       "  <thead>\n",
       "    <tr style=\"text-align: right;\">\n",
       "      <th></th>\n",
       "      <th>master_id</th>\n",
       "      <th>order_channel</th>\n",
       "      <th>last_order_channel</th>\n",
       "      <th>first_order_date</th>\n",
       "      <th>last_order_date</th>\n",
       "      <th>last_order_date_online</th>\n",
       "      <th>last_order_date_offline</th>\n",
       "      <th>order_num_total_ever_online</th>\n",
       "      <th>order_num_total_ever_offline</th>\n",
       "      <th>customer_value_total_ever_offline</th>\n",
       "      <th>customer_value_total_ever_online</th>\n",
       "      <th>interested_in_categories_12</th>\n",
       "    </tr>\n",
       "  </thead>\n",
       "  <tbody>\n",
       "    <tr>\n",
       "      <th>0</th>\n",
       "      <td>cc294636-19f0-11eb-8d74-000d3a38a36f</td>\n",
       "      <td>Android App</td>\n",
       "      <td>Offline</td>\n",
       "      <td>2020-10-30</td>\n",
       "      <td>2021-02-26</td>\n",
       "      <td>2021-02-21</td>\n",
       "      <td>2021-02-26</td>\n",
       "      <td>4.000</td>\n",
       "      <td>1.000</td>\n",
       "      <td>139.990</td>\n",
       "      <td>799.380</td>\n",
       "      <td>[KADIN]</td>\n",
       "    </tr>\n",
       "    <tr>\n",
       "      <th>1</th>\n",
       "      <td>f431bd5a-ab7b-11e9-a2fc-000d3a38a36f</td>\n",
       "      <td>Android App</td>\n",
       "      <td>Mobile</td>\n",
       "      <td>2017-02-08</td>\n",
       "      <td>2021-02-16</td>\n",
       "      <td>2021-02-16</td>\n",
       "      <td>2020-01-10</td>\n",
       "      <td>19.000</td>\n",
       "      <td>2.000</td>\n",
       "      <td>159.970</td>\n",
       "      <td>1853.580</td>\n",
       "      <td>[ERKEK, COCUK, KADIN, AKTIFSPOR]</td>\n",
       "    </tr>\n",
       "    <tr>\n",
       "      <th>2</th>\n",
       "      <td>69b69676-1a40-11ea-941b-000d3a38a36f</td>\n",
       "      <td>Android App</td>\n",
       "      <td>Android App</td>\n",
       "      <td>2019-11-27</td>\n",
       "      <td>2020-11-27</td>\n",
       "      <td>2020-11-27</td>\n",
       "      <td>2019-12-01</td>\n",
       "      <td>3.000</td>\n",
       "      <td>2.000</td>\n",
       "      <td>189.970</td>\n",
       "      <td>395.350</td>\n",
       "      <td>[ERKEK, KADIN]</td>\n",
       "    </tr>\n",
       "    <tr>\n",
       "      <th>3</th>\n",
       "      <td>1854e56c-491f-11eb-806e-000d3a38a36f</td>\n",
       "      <td>Android App</td>\n",
       "      <td>Android App</td>\n",
       "      <td>2021-01-06</td>\n",
       "      <td>2021-01-17</td>\n",
       "      <td>2021-01-17</td>\n",
       "      <td>2021-01-06</td>\n",
       "      <td>1.000</td>\n",
       "      <td>1.000</td>\n",
       "      <td>39.990</td>\n",
       "      <td>81.980</td>\n",
       "      <td>[AKTIFCOCUK, COCUK]</td>\n",
       "    </tr>\n",
       "    <tr>\n",
       "      <th>4</th>\n",
       "      <td>d6ea1074-f1f5-11e9-9346-000d3a38a36f</td>\n",
       "      <td>Desktop</td>\n",
       "      <td>Desktop</td>\n",
       "      <td>2019-08-03</td>\n",
       "      <td>2021-03-07</td>\n",
       "      <td>2021-03-07</td>\n",
       "      <td>2019-08-03</td>\n",
       "      <td>1.000</td>\n",
       "      <td>1.000</td>\n",
       "      <td>49.990</td>\n",
       "      <td>159.990</td>\n",
       "      <td>[AKTIFSPOR]</td>\n",
       "    </tr>\n",
       "    <tr>\n",
       "      <th>5</th>\n",
       "      <td>e585280e-aae1-11e9-a2fc-000d3a38a36f</td>\n",
       "      <td>Desktop</td>\n",
       "      <td>Offline</td>\n",
       "      <td>2018-11-18</td>\n",
       "      <td>2021-03-13</td>\n",
       "      <td>2018-11-18</td>\n",
       "      <td>2021-03-13</td>\n",
       "      <td>1.000</td>\n",
       "      <td>2.000</td>\n",
       "      <td>150.870</td>\n",
       "      <td>49.990</td>\n",
       "      <td>[KADIN]</td>\n",
       "    </tr>\n",
       "    <tr>\n",
       "      <th>6</th>\n",
       "      <td>c445e4ee-6242-11ea-9d1a-000d3a38a36f</td>\n",
       "      <td>Android App</td>\n",
       "      <td>Android App</td>\n",
       "      <td>2020-03-04</td>\n",
       "      <td>2020-10-18</td>\n",
       "      <td>2020-10-18</td>\n",
       "      <td>2020-03-04</td>\n",
       "      <td>3.000</td>\n",
       "      <td>1.000</td>\n",
       "      <td>59.990</td>\n",
       "      <td>315.940</td>\n",
       "      <td>[AKTIFSPOR]</td>\n",
       "    </tr>\n",
       "    <tr>\n",
       "      <th>7</th>\n",
       "      <td>3f1b4dc8-8a7d-11ea-8ec0-000d3a38a36f</td>\n",
       "      <td>Mobile</td>\n",
       "      <td>Offline</td>\n",
       "      <td>2020-05-15</td>\n",
       "      <td>2020-08-12</td>\n",
       "      <td>2020-05-15</td>\n",
       "      <td>2020-08-12</td>\n",
       "      <td>1.000</td>\n",
       "      <td>1.000</td>\n",
       "      <td>49.990</td>\n",
       "      <td>113.640</td>\n",
       "      <td>[COCUK]</td>\n",
       "    </tr>\n",
       "    <tr>\n",
       "      <th>8</th>\n",
       "      <td>cfbda69e-5b4f-11ea-aca7-000d3a38a36f</td>\n",
       "      <td>Android App</td>\n",
       "      <td>Android App</td>\n",
       "      <td>2020-01-23</td>\n",
       "      <td>2021-03-07</td>\n",
       "      <td>2021-03-07</td>\n",
       "      <td>2020-01-25</td>\n",
       "      <td>3.000</td>\n",
       "      <td>2.000</td>\n",
       "      <td>120.480</td>\n",
       "      <td>934.210</td>\n",
       "      <td>[ERKEK, COCUK, KADIN]</td>\n",
       "    </tr>\n",
       "    <tr>\n",
       "      <th>9</th>\n",
       "      <td>1143f032-440d-11ea-8b43-000d3a38a36f</td>\n",
       "      <td>Mobile</td>\n",
       "      <td>Mobile</td>\n",
       "      <td>2019-07-30</td>\n",
       "      <td>2020-10-04</td>\n",
       "      <td>2020-10-04</td>\n",
       "      <td>2019-07-30</td>\n",
       "      <td>1.000</td>\n",
       "      <td>1.000</td>\n",
       "      <td>69.980</td>\n",
       "      <td>95.980</td>\n",
       "      <td>[KADIN, AKTIFSPOR]</td>\n",
       "    </tr>\n",
       "  </tbody>\n",
       "</table>\n",
       "</div>"
      ],
      "text/plain": [
       "                              master_id order_channel last_order_channel  \\\n",
       "0  cc294636-19f0-11eb-8d74-000d3a38a36f   Android App            Offline   \n",
       "1  f431bd5a-ab7b-11e9-a2fc-000d3a38a36f   Android App             Mobile   \n",
       "2  69b69676-1a40-11ea-941b-000d3a38a36f   Android App        Android App   \n",
       "3  1854e56c-491f-11eb-806e-000d3a38a36f   Android App        Android App   \n",
       "4  d6ea1074-f1f5-11e9-9346-000d3a38a36f       Desktop            Desktop   \n",
       "5  e585280e-aae1-11e9-a2fc-000d3a38a36f       Desktop            Offline   \n",
       "6  c445e4ee-6242-11ea-9d1a-000d3a38a36f   Android App        Android App   \n",
       "7  3f1b4dc8-8a7d-11ea-8ec0-000d3a38a36f        Mobile            Offline   \n",
       "8  cfbda69e-5b4f-11ea-aca7-000d3a38a36f   Android App        Android App   \n",
       "9  1143f032-440d-11ea-8b43-000d3a38a36f        Mobile             Mobile   \n",
       "\n",
       "  first_order_date last_order_date last_order_date_online  \\\n",
       "0       2020-10-30      2021-02-26             2021-02-21   \n",
       "1       2017-02-08      2021-02-16             2021-02-16   \n",
       "2       2019-11-27      2020-11-27             2020-11-27   \n",
       "3       2021-01-06      2021-01-17             2021-01-17   \n",
       "4       2019-08-03      2021-03-07             2021-03-07   \n",
       "5       2018-11-18      2021-03-13             2018-11-18   \n",
       "6       2020-03-04      2020-10-18             2020-10-18   \n",
       "7       2020-05-15      2020-08-12             2020-05-15   \n",
       "8       2020-01-23      2021-03-07             2021-03-07   \n",
       "9       2019-07-30      2020-10-04             2020-10-04   \n",
       "\n",
       "  last_order_date_offline  order_num_total_ever_online  \\\n",
       "0              2021-02-26                        4.000   \n",
       "1              2020-01-10                       19.000   \n",
       "2              2019-12-01                        3.000   \n",
       "3              2021-01-06                        1.000   \n",
       "4              2019-08-03                        1.000   \n",
       "5              2021-03-13                        1.000   \n",
       "6              2020-03-04                        3.000   \n",
       "7              2020-08-12                        1.000   \n",
       "8              2020-01-25                        3.000   \n",
       "9              2019-07-30                        1.000   \n",
       "\n",
       "   order_num_total_ever_offline  customer_value_total_ever_offline  \\\n",
       "0                         1.000                            139.990   \n",
       "1                         2.000                            159.970   \n",
       "2                         2.000                            189.970   \n",
       "3                         1.000                             39.990   \n",
       "4                         1.000                             49.990   \n",
       "5                         2.000                            150.870   \n",
       "6                         1.000                             59.990   \n",
       "7                         1.000                             49.990   \n",
       "8                         2.000                            120.480   \n",
       "9                         1.000                             69.980   \n",
       "\n",
       "   customer_value_total_ever_online       interested_in_categories_12  \n",
       "0                           799.380                           [KADIN]  \n",
       "1                          1853.580  [ERKEK, COCUK, KADIN, AKTIFSPOR]  \n",
       "2                           395.350                    [ERKEK, KADIN]  \n",
       "3                            81.980               [AKTIFCOCUK, COCUK]  \n",
       "4                           159.990                       [AKTIFSPOR]  \n",
       "5                            49.990                           [KADIN]  \n",
       "6                           315.940                       [AKTIFSPOR]  \n",
       "7                           113.640                           [COCUK]  \n",
       "8                           934.210             [ERKEK, COCUK, KADIN]  \n",
       "9                            95.980                [KADIN, AKTIFSPOR]  "
      ]
     },
     "execution_count": 3,
     "metadata": {},
     "output_type": "execute_result"
    }
   ],
   "source": [
    "df.head (10)"
   ]
  },
  {
   "cell_type": "markdown",
   "id": "347a5f0b",
   "metadata": {
    "papermill": {
     "duration": 0.011519,
     "end_time": "2025-02-05T15:44:04.530503",
     "exception": false,
     "start_time": "2025-02-05T15:44:04.518984",
     "status": "completed"
    },
    "tags": []
   },
   "source": [
    "**b) Variable names**"
   ]
  },
  {
   "cell_type": "code",
   "execution_count": 4,
   "id": "6e8bccd6",
   "metadata": {
    "execution": {
     "iopub.execute_input": "2025-02-05T15:44:04.555293Z",
     "iopub.status.busy": "2025-02-05T15:44:04.554914Z",
     "iopub.status.idle": "2025-02-05T15:44:04.561353Z",
     "shell.execute_reply": "2025-02-05T15:44:04.560259Z"
    },
    "papermill": {
     "duration": 0.020634,
     "end_time": "2025-02-05T15:44:04.563326",
     "exception": false,
     "start_time": "2025-02-05T15:44:04.542692",
     "status": "completed"
    },
    "tags": []
   },
   "outputs": [
    {
     "data": {
      "text/plain": [
       "Index(['master_id', 'order_channel', 'last_order_channel', 'first_order_date',\n",
       "       'last_order_date', 'last_order_date_online', 'last_order_date_offline',\n",
       "       'order_num_total_ever_online', 'order_num_total_ever_offline',\n",
       "       'customer_value_total_ever_offline', 'customer_value_total_ever_online',\n",
       "       'interested_in_categories_12'],\n",
       "      dtype='object')"
      ]
     },
     "execution_count": 4,
     "metadata": {},
     "output_type": "execute_result"
    }
   ],
   "source": [
    "df.columns"
   ]
  },
  {
   "cell_type": "markdown",
   "id": "9b6956f8",
   "metadata": {
    "papermill": {
     "duration": 0.011319,
     "end_time": "2025-02-05T15:44:04.586851",
     "exception": false,
     "start_time": "2025-02-05T15:44:04.575532",
     "status": "completed"
    },
    "tags": []
   },
   "source": [
    "**c.) Descriptive statistics**"
   ]
  },
  {
   "cell_type": "code",
   "execution_count": 5,
   "id": "89737331",
   "metadata": {
    "execution": {
     "iopub.execute_input": "2025-02-05T15:44:04.610948Z",
     "iopub.status.busy": "2025-02-05T15:44:04.610482Z",
     "iopub.status.idle": "2025-02-05T15:44:04.652244Z",
     "shell.execute_reply": "2025-02-05T15:44:04.650992Z"
    },
    "papermill": {
     "duration": 0.056271,
     "end_time": "2025-02-05T15:44:04.654549",
     "exception": false,
     "start_time": "2025-02-05T15:44:04.598278",
     "status": "completed"
    },
    "tags": []
   },
   "outputs": [
    {
     "data": {
      "text/html": [
       "<div>\n",
       "<style scoped>\n",
       "    .dataframe tbody tr th:only-of-type {\n",
       "        vertical-align: middle;\n",
       "    }\n",
       "\n",
       "    .dataframe tbody tr th {\n",
       "        vertical-align: top;\n",
       "    }\n",
       "\n",
       "    .dataframe thead th {\n",
       "        text-align: right;\n",
       "    }\n",
       "</style>\n",
       "<table border=\"1\" class=\"dataframe\">\n",
       "  <thead>\n",
       "    <tr style=\"text-align: right;\">\n",
       "      <th></th>\n",
       "      <th>count</th>\n",
       "      <th>mean</th>\n",
       "      <th>std</th>\n",
       "      <th>min</th>\n",
       "      <th>0%</th>\n",
       "      <th>10%</th>\n",
       "      <th>20%</th>\n",
       "      <th>30%</th>\n",
       "      <th>40%</th>\n",
       "      <th>50%</th>\n",
       "      <th>60%</th>\n",
       "      <th>70%</th>\n",
       "      <th>80%</th>\n",
       "      <th>90%</th>\n",
       "      <th>95%</th>\n",
       "      <th>99%</th>\n",
       "      <th>100%</th>\n",
       "      <th>max</th>\n",
       "    </tr>\n",
       "  </thead>\n",
       "  <tbody>\n",
       "    <tr>\n",
       "      <th>order_num_total_ever_online</th>\n",
       "      <td>19945.000</td>\n",
       "      <td>3.111</td>\n",
       "      <td>4.226</td>\n",
       "      <td>1.000</td>\n",
       "      <td>1.000</td>\n",
       "      <td>1.000</td>\n",
       "      <td>1.000</td>\n",
       "      <td>1.000</td>\n",
       "      <td>1.000</td>\n",
       "      <td>2.000</td>\n",
       "      <td>2.000</td>\n",
       "      <td>3.000</td>\n",
       "      <td>4.000</td>\n",
       "      <td>7.000</td>\n",
       "      <td>10.000</td>\n",
       "      <td>20.000</td>\n",
       "      <td>200.000</td>\n",
       "      <td>200.000</td>\n",
       "    </tr>\n",
       "    <tr>\n",
       "      <th>order_num_total_ever_offline</th>\n",
       "      <td>19945.000</td>\n",
       "      <td>1.914</td>\n",
       "      <td>2.063</td>\n",
       "      <td>1.000</td>\n",
       "      <td>1.000</td>\n",
       "      <td>1.000</td>\n",
       "      <td>1.000</td>\n",
       "      <td>1.000</td>\n",
       "      <td>1.000</td>\n",
       "      <td>1.000</td>\n",
       "      <td>2.000</td>\n",
       "      <td>2.000</td>\n",
       "      <td>3.000</td>\n",
       "      <td>4.000</td>\n",
       "      <td>4.000</td>\n",
       "      <td>7.000</td>\n",
       "      <td>109.000</td>\n",
       "      <td>109.000</td>\n",
       "    </tr>\n",
       "    <tr>\n",
       "      <th>customer_value_total_ever_offline</th>\n",
       "      <td>19945.000</td>\n",
       "      <td>253.923</td>\n",
       "      <td>301.533</td>\n",
       "      <td>10.000</td>\n",
       "      <td>10.000</td>\n",
       "      <td>59.990</td>\n",
       "      <td>89.980</td>\n",
       "      <td>110.480</td>\n",
       "      <td>140.230</td>\n",
       "      <td>179.980</td>\n",
       "      <td>220.860</td>\n",
       "      <td>281.868</td>\n",
       "      <td>365.058</td>\n",
       "      <td>519.950</td>\n",
       "      <td>694.222</td>\n",
       "      <td>1219.947</td>\n",
       "      <td>18119.140</td>\n",
       "      <td>18119.140</td>\n",
       "    </tr>\n",
       "    <tr>\n",
       "      <th>customer_value_total_ever_online</th>\n",
       "      <td>19945.000</td>\n",
       "      <td>497.322</td>\n",
       "      <td>832.602</td>\n",
       "      <td>12.990</td>\n",
       "      <td>12.990</td>\n",
       "      <td>84.990</td>\n",
       "      <td>125.990</td>\n",
       "      <td>173.970</td>\n",
       "      <td>219.990</td>\n",
       "      <td>286.460</td>\n",
       "      <td>371.944</td>\n",
       "      <td>491.526</td>\n",
       "      <td>690.868</td>\n",
       "      <td>1082.036</td>\n",
       "      <td>1556.726</td>\n",
       "      <td>3143.810</td>\n",
       "      <td>45220.130</td>\n",
       "      <td>45220.130</td>\n",
       "    </tr>\n",
       "  </tbody>\n",
       "</table>\n",
       "</div>"
      ],
      "text/plain": [
       "                                      count    mean     std    min     0%  \\\n",
       "order_num_total_ever_online       19945.000   3.111   4.226  1.000  1.000   \n",
       "order_num_total_ever_offline      19945.000   1.914   2.063  1.000  1.000   \n",
       "customer_value_total_ever_offline 19945.000 253.923 301.533 10.000 10.000   \n",
       "customer_value_total_ever_online  19945.000 497.322 832.602 12.990 12.990   \n",
       "\n",
       "                                     10%     20%     30%     40%     50%  \\\n",
       "order_num_total_ever_online        1.000   1.000   1.000   1.000   2.000   \n",
       "order_num_total_ever_offline       1.000   1.000   1.000   1.000   1.000   \n",
       "customer_value_total_ever_offline 59.990  89.980 110.480 140.230 179.980   \n",
       "customer_value_total_ever_online  84.990 125.990 173.970 219.990 286.460   \n",
       "\n",
       "                                      60%     70%     80%      90%      95%  \\\n",
       "order_num_total_ever_online         2.000   3.000   4.000    7.000   10.000   \n",
       "order_num_total_ever_offline        2.000   2.000   3.000    4.000    4.000   \n",
       "customer_value_total_ever_offline 220.860 281.868 365.058  519.950  694.222   \n",
       "customer_value_total_ever_online  371.944 491.526 690.868 1082.036 1556.726   \n",
       "\n",
       "                                       99%      100%       max  \n",
       "order_num_total_ever_online         20.000   200.000   200.000  \n",
       "order_num_total_ever_offline         7.000   109.000   109.000  \n",
       "customer_value_total_ever_offline 1219.947 18119.140 18119.140  \n",
       "customer_value_total_ever_online  3143.810 45220.130 45220.130  "
      ]
     },
     "execution_count": 5,
     "metadata": {},
     "output_type": "execute_result"
    }
   ],
   "source": [
    "df.describe([0, 0.10, 0.20, 0.30, 0.40, 0.50, 0.60, 0.70, 0.80, 0.90, 0.95, 0.99, 1]).T"
   ]
  },
  {
   "cell_type": "markdown",
   "id": "42e8dc81",
   "metadata": {
    "papermill": {
     "duration": 0.012144,
     "end_time": "2025-02-05T15:44:04.688173",
     "exception": false,
     "start_time": "2025-02-05T15:44:04.676029",
     "status": "completed"
    },
    "tags": []
   },
   "source": [
    "**d) Missing values**"
   ]
  },
  {
   "cell_type": "code",
   "execution_count": 6,
   "id": "fb5aedf5",
   "metadata": {
    "execution": {
     "iopub.execute_input": "2025-02-05T15:44:04.713439Z",
     "iopub.status.busy": "2025-02-05T15:44:04.712806Z",
     "iopub.status.idle": "2025-02-05T15:44:04.737955Z",
     "shell.execute_reply": "2025-02-05T15:44:04.736323Z"
    },
    "papermill": {
     "duration": 0.040208,
     "end_time": "2025-02-05T15:44:04.740110",
     "exception": false,
     "start_time": "2025-02-05T15:44:04.699902",
     "status": "completed"
    },
    "tags": []
   },
   "outputs": [
    {
     "data": {
      "text/plain": [
       "master_id                            0\n",
       "order_channel                        0\n",
       "last_order_channel                   0\n",
       "first_order_date                     0\n",
       "last_order_date                      0\n",
       "last_order_date_online               0\n",
       "last_order_date_offline              0\n",
       "order_num_total_ever_online          0\n",
       "order_num_total_ever_offline         0\n",
       "customer_value_total_ever_offline    0\n",
       "customer_value_total_ever_online     0\n",
       "interested_in_categories_12          0\n",
       "dtype: int64"
      ]
     },
     "execution_count": 6,
     "metadata": {},
     "output_type": "execute_result"
    }
   ],
   "source": [
    "df.isnull().sum()"
   ]
  },
  {
   "cell_type": "markdown",
   "id": "bb9bd43d",
   "metadata": {
    "papermill": {
     "duration": 0.013167,
     "end_time": "2025-02-05T15:44:04.766074",
     "exception": false,
     "start_time": "2025-02-05T15:44:04.752907",
     "status": "completed"
    },
    "tags": []
   },
   "source": [
    "e) Variable types"
   ]
  },
  {
   "cell_type": "code",
   "execution_count": 7,
   "id": "cbdbc14d",
   "metadata": {
    "execution": {
     "iopub.execute_input": "2025-02-05T15:44:04.793082Z",
     "iopub.status.busy": "2025-02-05T15:44:04.792594Z",
     "iopub.status.idle": "2025-02-05T15:44:04.801829Z",
     "shell.execute_reply": "2025-02-05T15:44:04.800081Z"
    },
    "papermill": {
     "duration": 0.0241,
     "end_time": "2025-02-05T15:44:04.803843",
     "exception": false,
     "start_time": "2025-02-05T15:44:04.779743",
     "status": "completed"
    },
    "tags": []
   },
   "outputs": [
    {
     "data": {
      "text/plain": [
       "master_id                             object\n",
       "order_channel                         object\n",
       "last_order_channel                    object\n",
       "first_order_date                      object\n",
       "last_order_date                       object\n",
       "last_order_date_online                object\n",
       "last_order_date_offline               object\n",
       "order_num_total_ever_online          float64\n",
       "order_num_total_ever_offline         float64\n",
       "customer_value_total_ever_offline    float64\n",
       "customer_value_total_ever_online     float64\n",
       "interested_in_categories_12           object\n",
       "dtype: object"
      ]
     },
     "execution_count": 7,
     "metadata": {},
     "output_type": "execute_result"
    }
   ],
   "source": [
    "df.dtypes"
   ]
  },
  {
   "cell_type": "markdown",
   "id": "b36b9165",
   "metadata": {
    "papermill": {
     "duration": 0.012227,
     "end_time": "2025-02-05T15:44:04.828230",
     "exception": false,
     "start_time": "2025-02-05T15:44:04.816003",
     "status": "completed"
    },
    "tags": []
   },
   "source": [
    "**Step 3: Omnichannel customers shop both online and offline. Create new variables for total number of purchases and spending for each customer**"
   ]
  },
  {
   "cell_type": "code",
   "execution_count": 8,
   "id": "4a503b18",
   "metadata": {
    "execution": {
     "iopub.execute_input": "2025-02-05T15:44:04.856586Z",
     "iopub.status.busy": "2025-02-05T15:44:04.856062Z",
     "iopub.status.idle": "2025-02-05T15:44:04.864919Z",
     "shell.execute_reply": "2025-02-05T15:44:04.863374Z"
    },
    "papermill": {
     "duration": 0.026528,
     "end_time": "2025-02-05T15:44:04.866883",
     "exception": false,
     "start_time": "2025-02-05T15:44:04.840355",
     "status": "completed"
    },
    "tags": []
   },
   "outputs": [],
   "source": [
    "\n",
    "df[\"total_number_of_purchases\"] = df[\"order_num_total_ever_online\"] + df[\"order_num_total_ever_offline\"]\n",
    "\n",
    "df[\"total_spending\"] = df[\"customer_value_total_ever_online\"] + df[\"customer_value_total_ever_offline\"]"
   ]
  },
  {
   "cell_type": "markdown",
   "id": "d5e622b9",
   "metadata": {
    "papermill": {
     "duration": 0.011698,
     "end_time": "2025-02-05T15:44:04.890721",
     "exception": false,
     "start_time": "2025-02-05T15:44:04.879023",
     "status": "completed"
    },
    "tags": []
   },
   "source": [
    "**Step 4: Check the variable types. Convert date variables to \"date\" type.**"
   ]
  },
  {
   "cell_type": "code",
   "execution_count": 9,
   "id": "d0b80e4a",
   "metadata": {
    "execution": {
     "iopub.execute_input": "2025-02-05T15:44:04.916949Z",
     "iopub.status.busy": "2025-02-05T15:44:04.916422Z",
     "iopub.status.idle": "2025-02-05T15:44:04.955424Z",
     "shell.execute_reply": "2025-02-05T15:44:04.954317Z"
    },
    "papermill": {
     "duration": 0.05517,
     "end_time": "2025-02-05T15:44:04.957847",
     "exception": false,
     "start_time": "2025-02-05T15:44:04.902677",
     "status": "completed"
    },
    "tags": []
   },
   "outputs": [],
   "source": [
    "\n",
    "df.dtypes\n",
    "date_columns = df.columns[df.columns.str.contains(\"date\")]\n",
    "df[date_columns] = df[date_columns].apply(pd.to_datetime)"
   ]
  },
  {
   "cell_type": "markdown",
   "id": "18ba3071",
   "metadata": {
    "papermill": {
     "duration": 0.012289,
     "end_time": "2025-02-05T15:44:04.990016",
     "exception": false,
     "start_time": "2025-02-05T15:44:04.977727",
     "status": "completed"
    },
    "tags": []
   },
   "source": [
    "**Step 5: Look at the distribution of the number of customers, total products bought, and total spending across shopping channels.**"
   ]
  },
  {
   "cell_type": "code",
   "execution_count": 10,
   "id": "05b395d5",
   "metadata": {
    "execution": {
     "iopub.execute_input": "2025-02-05T15:44:05.015441Z",
     "iopub.status.busy": "2025-02-05T15:44:05.015050Z",
     "iopub.status.idle": "2025-02-05T15:44:05.034051Z",
     "shell.execute_reply": "2025-02-05T15:44:05.032903Z"
    },
    "papermill": {
     "duration": 0.034358,
     "end_time": "2025-02-05T15:44:05.036250",
     "exception": false,
     "start_time": "2025-02-05T15:44:05.001892",
     "status": "completed"
    },
    "tags": []
   },
   "outputs": [
    {
     "data": {
      "text/html": [
       "<div>\n",
       "<style scoped>\n",
       "    .dataframe tbody tr th:only-of-type {\n",
       "        vertical-align: middle;\n",
       "    }\n",
       "\n",
       "    .dataframe tbody tr th {\n",
       "        vertical-align: top;\n",
       "    }\n",
       "\n",
       "    .dataframe thead th {\n",
       "        text-align: right;\n",
       "    }\n",
       "</style>\n",
       "<table border=\"1\" class=\"dataframe\">\n",
       "  <thead>\n",
       "    <tr style=\"text-align: right;\">\n",
       "      <th></th>\n",
       "      <th>master_id</th>\n",
       "      <th>total_number_of_purchases</th>\n",
       "      <th>total_spending</th>\n",
       "    </tr>\n",
       "    <tr>\n",
       "      <th>order_channel</th>\n",
       "      <th></th>\n",
       "      <th></th>\n",
       "      <th></th>\n",
       "    </tr>\n",
       "  </thead>\n",
       "  <tbody>\n",
       "    <tr>\n",
       "      <th>Android App</th>\n",
       "      <td>9495</td>\n",
       "      <td>52269.000</td>\n",
       "      <td>7819062.760</td>\n",
       "    </tr>\n",
       "    <tr>\n",
       "      <th>Desktop</th>\n",
       "      <td>2735</td>\n",
       "      <td>10920.000</td>\n",
       "      <td>1610321.460</td>\n",
       "    </tr>\n",
       "    <tr>\n",
       "      <th>Ios App</th>\n",
       "      <td>2833</td>\n",
       "      <td>15351.000</td>\n",
       "      <td>2525999.930</td>\n",
       "    </tr>\n",
       "    <tr>\n",
       "      <th>Mobile</th>\n",
       "      <td>4882</td>\n",
       "      <td>21679.000</td>\n",
       "      <td>3028183.160</td>\n",
       "    </tr>\n",
       "  </tbody>\n",
       "</table>\n",
       "</div>"
      ],
      "text/plain": [
       "               master_id  total_number_of_purchases  total_spending\n",
       "order_channel                                                      \n",
       "Android App         9495                  52269.000     7819062.760\n",
       "Desktop             2735                  10920.000     1610321.460\n",
       "Ios App             2833                  15351.000     2525999.930\n",
       "Mobile              4882                  21679.000     3028183.160"
      ]
     },
     "execution_count": 10,
     "metadata": {},
     "output_type": "execute_result"
    }
   ],
   "source": [
    "df.groupby(\"order_channel\").agg({\"master_id\":\"count\",\n",
    "                                 \"total_number_of_purchases\" :\"sum\",\n",
    "                                 \"total_spending\":\"sum\"})"
   ]
  },
  {
   "cell_type": "markdown",
   "id": "1400615d",
   "metadata": {
    "papermill": {
     "duration": 0.011762,
     "end_time": "2025-02-05T15:44:05.068260",
     "exception": false,
     "start_time": "2025-02-05T15:44:05.056498",
     "status": "completed"
    },
    "tags": []
   },
   "source": [
    "**Step 6: Rank the top 10 customers who generate the most profit.**"
   ]
  },
  {
   "cell_type": "code",
   "execution_count": 11,
   "id": "7d61a666",
   "metadata": {
    "execution": {
     "iopub.execute_input": "2025-02-05T15:44:05.094087Z",
     "iopub.status.busy": "2025-02-05T15:44:05.093715Z",
     "iopub.status.idle": "2025-02-05T15:44:05.137243Z",
     "shell.execute_reply": "2025-02-05T15:44:05.135965Z"
    },
    "papermill": {
     "duration": 0.058957,
     "end_time": "2025-02-05T15:44:05.139829",
     "exception": false,
     "start_time": "2025-02-05T15:44:05.080872",
     "status": "completed"
    },
    "tags": []
   },
   "outputs": [
    {
     "data": {
      "text/html": [
       "<div>\n",
       "<style scoped>\n",
       "    .dataframe tbody tr th:only-of-type {\n",
       "        vertical-align: middle;\n",
       "    }\n",
       "\n",
       "    .dataframe tbody tr th {\n",
       "        vertical-align: top;\n",
       "    }\n",
       "\n",
       "    .dataframe thead th {\n",
       "        text-align: right;\n",
       "    }\n",
       "</style>\n",
       "<table border=\"1\" class=\"dataframe\">\n",
       "  <thead>\n",
       "    <tr style=\"text-align: right;\">\n",
       "      <th></th>\n",
       "      <th>total_spending</th>\n",
       "    </tr>\n",
       "    <tr>\n",
       "      <th>master_id</th>\n",
       "      <th></th>\n",
       "    </tr>\n",
       "  </thead>\n",
       "  <tbody>\n",
       "    <tr>\n",
       "      <th>5d1c466a-9cfd-11e9-9897-000d3a38a36f</th>\n",
       "      <td>45905.100</td>\n",
       "    </tr>\n",
       "    <tr>\n",
       "      <th>d5ef8058-a5c6-11e9-a2fc-000d3a38a36f</th>\n",
       "      <td>36818.290</td>\n",
       "    </tr>\n",
       "    <tr>\n",
       "      <th>73fd19aa-9e37-11e9-9897-000d3a38a36f</th>\n",
       "      <td>33918.100</td>\n",
       "    </tr>\n",
       "    <tr>\n",
       "      <th>7137a5c0-7aad-11ea-8f20-000d3a38a36f</th>\n",
       "      <td>31227.410</td>\n",
       "    </tr>\n",
       "    <tr>\n",
       "      <th>47a642fe-975b-11eb-8c2a-000d3a38a36f</th>\n",
       "      <td>20706.340</td>\n",
       "    </tr>\n",
       "    <tr>\n",
       "      <th>a4d534a2-5b1b-11eb-8dbd-000d3a38a36f</th>\n",
       "      <td>18443.570</td>\n",
       "    </tr>\n",
       "    <tr>\n",
       "      <th>d696c654-2633-11ea-8e1c-000d3a38a36f</th>\n",
       "      <td>16918.570</td>\n",
       "    </tr>\n",
       "    <tr>\n",
       "      <th>fef57ffa-aae6-11e9-a2fc-000d3a38a36f</th>\n",
       "      <td>12726.100</td>\n",
       "    </tr>\n",
       "    <tr>\n",
       "      <th>cba59206-9dd1-11e9-9897-000d3a38a36f</th>\n",
       "      <td>12282.240</td>\n",
       "    </tr>\n",
       "    <tr>\n",
       "      <th>fc0ce7a4-9d87-11e9-9897-000d3a38a36f</th>\n",
       "      <td>12103.150</td>\n",
       "    </tr>\n",
       "  </tbody>\n",
       "</table>\n",
       "</div>"
      ],
      "text/plain": [
       "                                      total_spending\n",
       "master_id                                           \n",
       "5d1c466a-9cfd-11e9-9897-000d3a38a36f       45905.100\n",
       "d5ef8058-a5c6-11e9-a2fc-000d3a38a36f       36818.290\n",
       "73fd19aa-9e37-11e9-9897-000d3a38a36f       33918.100\n",
       "7137a5c0-7aad-11ea-8f20-000d3a38a36f       31227.410\n",
       "47a642fe-975b-11eb-8c2a-000d3a38a36f       20706.340\n",
       "a4d534a2-5b1b-11eb-8dbd-000d3a38a36f       18443.570\n",
       "d696c654-2633-11ea-8e1c-000d3a38a36f       16918.570\n",
       "fef57ffa-aae6-11e9-a2fc-000d3a38a36f       12726.100\n",
       "cba59206-9dd1-11e9-9897-000d3a38a36f       12282.240\n",
       "fc0ce7a4-9d87-11e9-9897-000d3a38a36f       12103.150"
      ]
     },
     "execution_count": 11,
     "metadata": {},
     "output_type": "execute_result"
    }
   ],
   "source": [
    "df.groupby('master_id').agg({'total_spending': 'sum'}).sort_values(by='total_spending', ascending=False).head(10)"
   ]
  },
  {
   "cell_type": "markdown",
   "id": "a499019c",
   "metadata": {
    "papermill": {
     "duration": 0.017077,
     "end_time": "2025-02-05T15:44:05.180471",
     "exception": false,
     "start_time": "2025-02-05T15:44:05.163394",
     "status": "completed"
    },
    "tags": []
   },
   "source": [
    "**Step 7: Rank the top 10 customers who placed the most orders**"
   ]
  },
  {
   "cell_type": "code",
   "execution_count": 12,
   "id": "1016d64e",
   "metadata": {
    "execution": {
     "iopub.execute_input": "2025-02-05T15:44:05.208103Z",
     "iopub.status.busy": "2025-02-05T15:44:05.207759Z",
     "iopub.status.idle": "2025-02-05T15:44:05.242510Z",
     "shell.execute_reply": "2025-02-05T15:44:05.241353Z"
    },
    "papermill": {
     "duration": 0.050902,
     "end_time": "2025-02-05T15:44:05.244270",
     "exception": false,
     "start_time": "2025-02-05T15:44:05.193368",
     "status": "completed"
    },
    "tags": []
   },
   "outputs": [
    {
     "data": {
      "text/html": [
       "<div>\n",
       "<style scoped>\n",
       "    .dataframe tbody tr th:only-of-type {\n",
       "        vertical-align: middle;\n",
       "    }\n",
       "\n",
       "    .dataframe tbody tr th {\n",
       "        vertical-align: top;\n",
       "    }\n",
       "\n",
       "    .dataframe thead th {\n",
       "        text-align: right;\n",
       "    }\n",
       "</style>\n",
       "<table border=\"1\" class=\"dataframe\">\n",
       "  <thead>\n",
       "    <tr style=\"text-align: right;\">\n",
       "      <th></th>\n",
       "      <th>total_number_of_purchases</th>\n",
       "    </tr>\n",
       "    <tr>\n",
       "      <th>master_id</th>\n",
       "      <th></th>\n",
       "    </tr>\n",
       "  </thead>\n",
       "  <tbody>\n",
       "    <tr>\n",
       "      <th>5d1c466a-9cfd-11e9-9897-000d3a38a36f</th>\n",
       "      <td>202.000</td>\n",
       "    </tr>\n",
       "    <tr>\n",
       "      <th>cba59206-9dd1-11e9-9897-000d3a38a36f</th>\n",
       "      <td>131.000</td>\n",
       "    </tr>\n",
       "    <tr>\n",
       "      <th>a57f4302-b1a8-11e9-89fa-000d3a38a36f</th>\n",
       "      <td>111.000</td>\n",
       "    </tr>\n",
       "    <tr>\n",
       "      <th>fdbe8304-a7ab-11e9-a2fc-000d3a38a36f</th>\n",
       "      <td>88.000</td>\n",
       "    </tr>\n",
       "    <tr>\n",
       "      <th>329968c6-a0e2-11e9-a2fc-000d3a38a36f</th>\n",
       "      <td>83.000</td>\n",
       "    </tr>\n",
       "    <tr>\n",
       "      <th>73fd19aa-9e37-11e9-9897-000d3a38a36f</th>\n",
       "      <td>82.000</td>\n",
       "    </tr>\n",
       "    <tr>\n",
       "      <th>44d032ee-a0d4-11e9-a2fc-000d3a38a36f</th>\n",
       "      <td>77.000</td>\n",
       "    </tr>\n",
       "    <tr>\n",
       "      <th>b27e241a-a901-11e9-a2fc-000d3a38a36f</th>\n",
       "      <td>75.000</td>\n",
       "    </tr>\n",
       "    <tr>\n",
       "      <th>d696c654-2633-11ea-8e1c-000d3a38a36f</th>\n",
       "      <td>70.000</td>\n",
       "    </tr>\n",
       "    <tr>\n",
       "      <th>a4d534a2-5b1b-11eb-8dbd-000d3a38a36f</th>\n",
       "      <td>70.000</td>\n",
       "    </tr>\n",
       "  </tbody>\n",
       "</table>\n",
       "</div>"
      ],
      "text/plain": [
       "                                      total_number_of_purchases\n",
       "master_id                                                      \n",
       "5d1c466a-9cfd-11e9-9897-000d3a38a36f                    202.000\n",
       "cba59206-9dd1-11e9-9897-000d3a38a36f                    131.000\n",
       "a57f4302-b1a8-11e9-89fa-000d3a38a36f                    111.000\n",
       "fdbe8304-a7ab-11e9-a2fc-000d3a38a36f                     88.000\n",
       "329968c6-a0e2-11e9-a2fc-000d3a38a36f                     83.000\n",
       "73fd19aa-9e37-11e9-9897-000d3a38a36f                     82.000\n",
       "44d032ee-a0d4-11e9-a2fc-000d3a38a36f                     77.000\n",
       "b27e241a-a901-11e9-a2fc-000d3a38a36f                     75.000\n",
       "d696c654-2633-11ea-8e1c-000d3a38a36f                     70.000\n",
       "a4d534a2-5b1b-11eb-8dbd-000d3a38a36f                     70.000"
      ]
     },
     "execution_count": 12,
     "metadata": {},
     "output_type": "execute_result"
    }
   ],
   "source": [
    "df.groupby('master_id').agg({'total_number_of_purchases': 'sum'}).sort_values(by='total_number_of_purchases', ascending=False).head(10)"
   ]
  },
  {
   "cell_type": "markdown",
   "id": "cc1bbb66",
   "metadata": {
    "papermill": {
     "duration": 0.012862,
     "end_time": "2025-02-05T15:44:05.270083",
     "exception": false,
     "start_time": "2025-02-05T15:44:05.257221",
     "status": "completed"
    },
    "tags": []
   },
   "source": [
    "**Step 8: Automate the data preparation process as a function.**"
   ]
  },
  {
   "cell_type": "code",
   "execution_count": 13,
   "id": "319b4864",
   "metadata": {
    "execution": {
     "iopub.execute_input": "2025-02-05T15:44:05.297347Z",
     "iopub.status.busy": "2025-02-05T15:44:05.296970Z",
     "iopub.status.idle": "2025-02-05T15:44:05.355240Z",
     "shell.execute_reply": "2025-02-05T15:44:05.354283Z"
    },
    "papermill": {
     "duration": 0.074089,
     "end_time": "2025-02-05T15:44:05.356830",
     "exception": false,
     "start_time": "2025-02-05T15:44:05.282741",
     "status": "completed"
    },
    "tags": []
   },
   "outputs": [
    {
     "data": {
      "text/html": [
       "<div>\n",
       "<style scoped>\n",
       "    .dataframe tbody tr th:only-of-type {\n",
       "        vertical-align: middle;\n",
       "    }\n",
       "\n",
       "    .dataframe tbody tr th {\n",
       "        vertical-align: top;\n",
       "    }\n",
       "\n",
       "    .dataframe thead th {\n",
       "        text-align: right;\n",
       "    }\n",
       "</style>\n",
       "<table border=\"1\" class=\"dataframe\">\n",
       "  <thead>\n",
       "    <tr style=\"text-align: right;\">\n",
       "      <th></th>\n",
       "      <th>master_id</th>\n",
       "      <th>order_channel</th>\n",
       "      <th>last_order_channel</th>\n",
       "      <th>first_order_date</th>\n",
       "      <th>last_order_date</th>\n",
       "      <th>last_order_date_online</th>\n",
       "      <th>last_order_date_offline</th>\n",
       "      <th>order_num_total_ever_online</th>\n",
       "      <th>order_num_total_ever_offline</th>\n",
       "      <th>customer_value_total_ever_offline</th>\n",
       "      <th>customer_value_total_ever_online</th>\n",
       "      <th>interested_in_categories_12</th>\n",
       "      <th>total_number_of_purchases</th>\n",
       "      <th>total_spending</th>\n",
       "    </tr>\n",
       "  </thead>\n",
       "  <tbody>\n",
       "    <tr>\n",
       "      <th>0</th>\n",
       "      <td>cc294636-19f0-11eb-8d74-000d3a38a36f</td>\n",
       "      <td>Android App</td>\n",
       "      <td>Offline</td>\n",
       "      <td>2020-10-30</td>\n",
       "      <td>2021-02-26</td>\n",
       "      <td>2021-02-21</td>\n",
       "      <td>2021-02-26</td>\n",
       "      <td>4.000</td>\n",
       "      <td>1.000</td>\n",
       "      <td>139.990</td>\n",
       "      <td>799.380</td>\n",
       "      <td>[KADIN]</td>\n",
       "      <td>5.000</td>\n",
       "      <td>939.370</td>\n",
       "    </tr>\n",
       "    <tr>\n",
       "      <th>1</th>\n",
       "      <td>f431bd5a-ab7b-11e9-a2fc-000d3a38a36f</td>\n",
       "      <td>Android App</td>\n",
       "      <td>Mobile</td>\n",
       "      <td>2017-02-08</td>\n",
       "      <td>2021-02-16</td>\n",
       "      <td>2021-02-16</td>\n",
       "      <td>2020-01-10</td>\n",
       "      <td>19.000</td>\n",
       "      <td>2.000</td>\n",
       "      <td>159.970</td>\n",
       "      <td>1853.580</td>\n",
       "      <td>[ERKEK, COCUK, KADIN, AKTIFSPOR]</td>\n",
       "      <td>21.000</td>\n",
       "      <td>2013.550</td>\n",
       "    </tr>\n",
       "    <tr>\n",
       "      <th>2</th>\n",
       "      <td>69b69676-1a40-11ea-941b-000d3a38a36f</td>\n",
       "      <td>Android App</td>\n",
       "      <td>Android App</td>\n",
       "      <td>2019-11-27</td>\n",
       "      <td>2020-11-27</td>\n",
       "      <td>2020-11-27</td>\n",
       "      <td>2019-12-01</td>\n",
       "      <td>3.000</td>\n",
       "      <td>2.000</td>\n",
       "      <td>189.970</td>\n",
       "      <td>395.350</td>\n",
       "      <td>[ERKEK, KADIN]</td>\n",
       "      <td>5.000</td>\n",
       "      <td>585.320</td>\n",
       "    </tr>\n",
       "    <tr>\n",
       "      <th>3</th>\n",
       "      <td>1854e56c-491f-11eb-806e-000d3a38a36f</td>\n",
       "      <td>Android App</td>\n",
       "      <td>Android App</td>\n",
       "      <td>2021-01-06</td>\n",
       "      <td>2021-01-17</td>\n",
       "      <td>2021-01-17</td>\n",
       "      <td>2021-01-06</td>\n",
       "      <td>1.000</td>\n",
       "      <td>1.000</td>\n",
       "      <td>39.990</td>\n",
       "      <td>81.980</td>\n",
       "      <td>[AKTIFCOCUK, COCUK]</td>\n",
       "      <td>2.000</td>\n",
       "      <td>121.970</td>\n",
       "    </tr>\n",
       "    <tr>\n",
       "      <th>4</th>\n",
       "      <td>d6ea1074-f1f5-11e9-9346-000d3a38a36f</td>\n",
       "      <td>Desktop</td>\n",
       "      <td>Desktop</td>\n",
       "      <td>2019-08-03</td>\n",
       "      <td>2021-03-07</td>\n",
       "      <td>2021-03-07</td>\n",
       "      <td>2019-08-03</td>\n",
       "      <td>1.000</td>\n",
       "      <td>1.000</td>\n",
       "      <td>49.990</td>\n",
       "      <td>159.990</td>\n",
       "      <td>[AKTIFSPOR]</td>\n",
       "      <td>2.000</td>\n",
       "      <td>209.980</td>\n",
       "    </tr>\n",
       "  </tbody>\n",
       "</table>\n",
       "</div>"
      ],
      "text/plain": [
       "                              master_id order_channel last_order_channel  \\\n",
       "0  cc294636-19f0-11eb-8d74-000d3a38a36f   Android App            Offline   \n",
       "1  f431bd5a-ab7b-11e9-a2fc-000d3a38a36f   Android App             Mobile   \n",
       "2  69b69676-1a40-11ea-941b-000d3a38a36f   Android App        Android App   \n",
       "3  1854e56c-491f-11eb-806e-000d3a38a36f   Android App        Android App   \n",
       "4  d6ea1074-f1f5-11e9-9346-000d3a38a36f       Desktop            Desktop   \n",
       "\n",
       "  first_order_date last_order_date last_order_date_online  \\\n",
       "0       2020-10-30      2021-02-26             2021-02-21   \n",
       "1       2017-02-08      2021-02-16             2021-02-16   \n",
       "2       2019-11-27      2020-11-27             2020-11-27   \n",
       "3       2021-01-06      2021-01-17             2021-01-17   \n",
       "4       2019-08-03      2021-03-07             2021-03-07   \n",
       "\n",
       "  last_order_date_offline  order_num_total_ever_online  \\\n",
       "0              2021-02-26                        4.000   \n",
       "1              2020-01-10                       19.000   \n",
       "2              2019-12-01                        3.000   \n",
       "3              2021-01-06                        1.000   \n",
       "4              2019-08-03                        1.000   \n",
       "\n",
       "   order_num_total_ever_offline  customer_value_total_ever_offline  \\\n",
       "0                         1.000                            139.990   \n",
       "1                         2.000                            159.970   \n",
       "2                         2.000                            189.970   \n",
       "3                         1.000                             39.990   \n",
       "4                         1.000                             49.990   \n",
       "\n",
       "   customer_value_total_ever_online       interested_in_categories_12  \\\n",
       "0                           799.380                           [KADIN]   \n",
       "1                          1853.580  [ERKEK, COCUK, KADIN, AKTIFSPOR]   \n",
       "2                           395.350                    [ERKEK, KADIN]   \n",
       "3                            81.980               [AKTIFCOCUK, COCUK]   \n",
       "4                           159.990                       [AKTIFSPOR]   \n",
       "\n",
       "   total_number_of_purchases  total_spending  \n",
       "0                      5.000         939.370  \n",
       "1                     21.000        2013.550  \n",
       "2                      5.000         585.320  \n",
       "3                      2.000         121.970  \n",
       "4                      2.000         209.980  "
      ]
     },
     "execution_count": 13,
     "metadata": {},
     "output_type": "execute_result"
    }
   ],
   "source": [
    "def data_prep (dataframe):\n",
    "    \n",
    "    dataframe[\"total_number_of_purchases\"] = dataframe[\"order_num_total_ever_online\"] + dataframe[\"order_num_total_ever_offline\"]\n",
    "    dataframe[\"total_spending\"] = dataframe[\"customer_value_total_ever_online\"] + dataframe[\"customer_value_total_ever_offline\"]\n",
    "    \n",
    "    date_columns = dataframe.columns[dataframe.columns.str.contains(\"date\")]\n",
    "    dataframe[date_columns] = dataframe[date_columns].apply(pd.to_datetime)\n",
    "    \n",
    "    return df\n",
    "\n",
    "data_prep(df).head()"
   ]
  },
  {
   "cell_type": "markdown",
   "id": "15794726",
   "metadata": {
    "papermill": {
     "duration": 0.012749,
     "end_time": "2025-02-05T15:44:05.382651",
     "exception": false,
     "start_time": "2025-02-05T15:44:05.369902",
     "status": "completed"
    },
    "tags": []
   },
   "source": [
    "# #**Task 2: Calculating RFM Metrics**"
   ]
  },
  {
   "cell_type": "markdown",
   "id": "66047633",
   "metadata": {
    "papermill": {
     "duration": 0.013082,
     "end_time": "2025-02-05T15:44:05.408831",
     "exception": false,
     "start_time": "2025-02-05T15:44:05.395749",
     "status": "completed"
    },
    "tags": []
   },
   "source": [
    "**Step 1: Define Recency, Frequency, and Monetary.**"
   ]
  },
  {
   "cell_type": "markdown",
   "id": "f8e22630",
   "metadata": {
    "papermill": {
     "duration": 0.013895,
     "end_time": "2025-02-05T15:44:05.436359",
     "exception": false,
     "start_time": "2025-02-05T15:44:05.422464",
     "status": "completed"
    },
    "tags": []
   },
   "source": [
    "Recency: It shows how much time has passed since the customer’s last purchase.\n",
    "\n",
    "Frequency: It shows how often the customer makes purchases in a certain period.\n",
    "\n",
    "Monetary: It is the total amount of money the customer has spent in a certain period."
   ]
  },
  {
   "cell_type": "markdown",
   "id": "21d3c187",
   "metadata": {
    "papermill": {
     "duration": 0.012993,
     "end_time": "2025-02-05T15:44:05.463342",
     "exception": false,
     "start_time": "2025-02-05T15:44:05.450349",
     "status": "completed"
    },
    "tags": []
   },
   "source": [
    "**Step 2: Calculate Recency, Frequency, and Monetary metrics for each customer.**"
   ]
  },
  {
   "cell_type": "code",
   "execution_count": 14,
   "id": "597a23f1",
   "metadata": {
    "execution": {
     "iopub.execute_input": "2025-02-05T15:44:05.491252Z",
     "iopub.status.busy": "2025-02-05T15:44:05.490854Z",
     "iopub.status.idle": "2025-02-05T15:44:05.498113Z",
     "shell.execute_reply": "2025-02-05T15:44:05.496889Z"
    },
    "papermill": {
     "duration": 0.023799,
     "end_time": "2025-02-05T15:44:05.500168",
     "exception": false,
     "start_time": "2025-02-05T15:44:05.476369",
     "status": "completed"
    },
    "tags": []
   },
   "outputs": [
    {
     "data": {
      "text/plain": [
       "Timestamp('2021-05-30 00:00:00')"
      ]
     },
     "execution_count": 14,
     "metadata": {},
     "output_type": "execute_result"
    }
   ],
   "source": [
    "df[\"last_order_date\"].max()"
   ]
  },
  {
   "cell_type": "code",
   "execution_count": 15,
   "id": "5d169eb6",
   "metadata": {
    "execution": {
     "iopub.execute_input": "2025-02-05T15:44:05.529979Z",
     "iopub.status.busy": "2025-02-05T15:44:05.529611Z",
     "iopub.status.idle": "2025-02-05T15:44:05.533804Z",
     "shell.execute_reply": "2025-02-05T15:44:05.532797Z"
    },
    "papermill": {
     "duration": 0.021066,
     "end_time": "2025-02-05T15:44:05.535432",
     "exception": false,
     "start_time": "2025-02-05T15:44:05.514366",
     "status": "completed"
    },
    "tags": []
   },
   "outputs": [],
   "source": [
    "today_date = dt.datetime(2021,6,1)"
   ]
  },
  {
   "cell_type": "code",
   "execution_count": 16,
   "id": "ce32a42c",
   "metadata": {
    "execution": {
     "iopub.execute_input": "2025-02-05T15:44:05.562798Z",
     "iopub.status.busy": "2025-02-05T15:44:05.562410Z",
     "iopub.status.idle": "2025-02-05T15:44:05.572221Z",
     "shell.execute_reply": "2025-02-05T15:44:05.571208Z"
    },
    "papermill": {
     "duration": 0.025505,
     "end_time": "2025-02-05T15:44:05.574054",
     "exception": false,
     "start_time": "2025-02-05T15:44:05.548549",
     "status": "completed"
    },
    "tags": []
   },
   "outputs": [],
   "source": [
    "RFM = pd.DataFrame()\n",
    "RFM[\"master_id\"] = df[\"master_id\"]\n",
    "RFM[\"recency\"] = (today_date - df[\"last_order_date\"]).dt.days\n",
    "RFM[\"frequency\"] = df[\"total_number_of_purchases\"]\n",
    "RFM[\"monetary\"] = df[\"total_spending\"]"
   ]
  },
  {
   "cell_type": "code",
   "execution_count": 17,
   "id": "fc62be46",
   "metadata": {
    "execution": {
     "iopub.execute_input": "2025-02-05T15:44:05.601518Z",
     "iopub.status.busy": "2025-02-05T15:44:05.601124Z",
     "iopub.status.idle": "2025-02-05T15:44:05.610740Z",
     "shell.execute_reply": "2025-02-05T15:44:05.609608Z"
    },
    "papermill": {
     "duration": 0.02506,
     "end_time": "2025-02-05T15:44:05.612358",
     "exception": false,
     "start_time": "2025-02-05T15:44:05.587298",
     "status": "completed"
    },
    "tags": []
   },
   "outputs": [
    {
     "data": {
      "text/html": [
       "<div>\n",
       "<style scoped>\n",
       "    .dataframe tbody tr th:only-of-type {\n",
       "        vertical-align: middle;\n",
       "    }\n",
       "\n",
       "    .dataframe tbody tr th {\n",
       "        vertical-align: top;\n",
       "    }\n",
       "\n",
       "    .dataframe thead th {\n",
       "        text-align: right;\n",
       "    }\n",
       "</style>\n",
       "<table border=\"1\" class=\"dataframe\">\n",
       "  <thead>\n",
       "    <tr style=\"text-align: right;\">\n",
       "      <th></th>\n",
       "      <th>master_id</th>\n",
       "      <th>recency</th>\n",
       "      <th>frequency</th>\n",
       "      <th>monetary</th>\n",
       "    </tr>\n",
       "  </thead>\n",
       "  <tbody>\n",
       "    <tr>\n",
       "      <th>0</th>\n",
       "      <td>cc294636-19f0-11eb-8d74-000d3a38a36f</td>\n",
       "      <td>95</td>\n",
       "      <td>5.000</td>\n",
       "      <td>939.370</td>\n",
       "    </tr>\n",
       "    <tr>\n",
       "      <th>1</th>\n",
       "      <td>f431bd5a-ab7b-11e9-a2fc-000d3a38a36f</td>\n",
       "      <td>105</td>\n",
       "      <td>21.000</td>\n",
       "      <td>2013.550</td>\n",
       "    </tr>\n",
       "    <tr>\n",
       "      <th>2</th>\n",
       "      <td>69b69676-1a40-11ea-941b-000d3a38a36f</td>\n",
       "      <td>186</td>\n",
       "      <td>5.000</td>\n",
       "      <td>585.320</td>\n",
       "    </tr>\n",
       "    <tr>\n",
       "      <th>3</th>\n",
       "      <td>1854e56c-491f-11eb-806e-000d3a38a36f</td>\n",
       "      <td>135</td>\n",
       "      <td>2.000</td>\n",
       "      <td>121.970</td>\n",
       "    </tr>\n",
       "    <tr>\n",
       "      <th>4</th>\n",
       "      <td>d6ea1074-f1f5-11e9-9346-000d3a38a36f</td>\n",
       "      <td>86</td>\n",
       "      <td>2.000</td>\n",
       "      <td>209.980</td>\n",
       "    </tr>\n",
       "  </tbody>\n",
       "</table>\n",
       "</div>"
      ],
      "text/plain": [
       "                              master_id  recency  frequency  monetary\n",
       "0  cc294636-19f0-11eb-8d74-000d3a38a36f       95      5.000   939.370\n",
       "1  f431bd5a-ab7b-11e9-a2fc-000d3a38a36f      105     21.000  2013.550\n",
       "2  69b69676-1a40-11ea-941b-000d3a38a36f      186      5.000   585.320\n",
       "3  1854e56c-491f-11eb-806e-000d3a38a36f      135      2.000   121.970\n",
       "4  d6ea1074-f1f5-11e9-9346-000d3a38a36f       86      2.000   209.980"
      ]
     },
     "execution_count": 17,
     "metadata": {},
     "output_type": "execute_result"
    }
   ],
   "source": [
    "RFM.head ()"
   ]
  },
  {
   "cell_type": "markdown",
   "id": "6dc4b031",
   "metadata": {
    "papermill": {
     "duration": 0.013401,
     "end_time": "2025-02-05T15:44:05.639256",
     "exception": false,
     "start_time": "2025-02-05T15:44:05.625855",
     "status": "completed"
    },
    "tags": []
   },
   "source": [
    "# #Task 3: Calculating the RF Score"
   ]
  },
  {
   "cell_type": "markdown",
   "id": "b8ec6dad",
   "metadata": {
    "papermill": {
     "duration": 0.012955,
     "end_time": "2025-02-05T15:44:05.665639",
     "exception": false,
     "start_time": "2025-02-05T15:44:05.652684",
     "status": "completed"
    },
    "tags": []
   },
   "source": [
    "**Step 1: Convert the Recency, Frequency, and Monetary metrics into scores between 1-5 using qcut.**\n",
    "\n",
    "**Step 2: Save these scores as recency_score, frequency_score, and monetary_score.**"
   ]
  },
  {
   "cell_type": "code",
   "execution_count": 18,
   "id": "8936b9ce",
   "metadata": {
    "execution": {
     "iopub.execute_input": "2025-02-05T15:44:05.693965Z",
     "iopub.status.busy": "2025-02-05T15:44:05.693565Z",
     "iopub.status.idle": "2025-02-05T15:44:05.716561Z",
     "shell.execute_reply": "2025-02-05T15:44:05.715399Z"
    },
    "papermill": {
     "duration": 0.039858,
     "end_time": "2025-02-05T15:44:05.718656",
     "exception": false,
     "start_time": "2025-02-05T15:44:05.678798",
     "status": "completed"
    },
    "tags": []
   },
   "outputs": [],
   "source": [
    "RFM[\"recency_score\"] = pd.qcut(RFM[\"recency\"], 5, labels =[5,4,3,2,1])\n",
    "RFM[\"frequency_score\"] = pd.qcut(RFM[\"frequency\"].rank(method=\"first\"), 5, labels =[1,2,3,4,5])\n",
    "RFM[\"monetary_score\"] = pd.qcut(RFM[\"monetary\"], 5, labels =[1,2,3,4,5])"
   ]
  },
  {
   "cell_type": "code",
   "execution_count": 19,
   "id": "5609c4f9",
   "metadata": {
    "execution": {
     "iopub.execute_input": "2025-02-05T15:44:05.746708Z",
     "iopub.status.busy": "2025-02-05T15:44:05.746297Z",
     "iopub.status.idle": "2025-02-05T15:44:05.758629Z",
     "shell.execute_reply": "2025-02-05T15:44:05.757580Z"
    },
    "papermill": {
     "duration": 0.028262,
     "end_time": "2025-02-05T15:44:05.760391",
     "exception": false,
     "start_time": "2025-02-05T15:44:05.732129",
     "status": "completed"
    },
    "tags": []
   },
   "outputs": [
    {
     "data": {
      "text/html": [
       "<div>\n",
       "<style scoped>\n",
       "    .dataframe tbody tr th:only-of-type {\n",
       "        vertical-align: middle;\n",
       "    }\n",
       "\n",
       "    .dataframe tbody tr th {\n",
       "        vertical-align: top;\n",
       "    }\n",
       "\n",
       "    .dataframe thead th {\n",
       "        text-align: right;\n",
       "    }\n",
       "</style>\n",
       "<table border=\"1\" class=\"dataframe\">\n",
       "  <thead>\n",
       "    <tr style=\"text-align: right;\">\n",
       "      <th></th>\n",
       "      <th>master_id</th>\n",
       "      <th>recency</th>\n",
       "      <th>frequency</th>\n",
       "      <th>monetary</th>\n",
       "      <th>recency_score</th>\n",
       "      <th>frequency_score</th>\n",
       "      <th>monetary_score</th>\n",
       "    </tr>\n",
       "  </thead>\n",
       "  <tbody>\n",
       "    <tr>\n",
       "      <th>0</th>\n",
       "      <td>cc294636-19f0-11eb-8d74-000d3a38a36f</td>\n",
       "      <td>95</td>\n",
       "      <td>5.000</td>\n",
       "      <td>939.370</td>\n",
       "      <td>3</td>\n",
       "      <td>4</td>\n",
       "      <td>4</td>\n",
       "    </tr>\n",
       "    <tr>\n",
       "      <th>1</th>\n",
       "      <td>f431bd5a-ab7b-11e9-a2fc-000d3a38a36f</td>\n",
       "      <td>105</td>\n",
       "      <td>21.000</td>\n",
       "      <td>2013.550</td>\n",
       "      <td>3</td>\n",
       "      <td>5</td>\n",
       "      <td>5</td>\n",
       "    </tr>\n",
       "    <tr>\n",
       "      <th>2</th>\n",
       "      <td>69b69676-1a40-11ea-941b-000d3a38a36f</td>\n",
       "      <td>186</td>\n",
       "      <td>5.000</td>\n",
       "      <td>585.320</td>\n",
       "      <td>2</td>\n",
       "      <td>4</td>\n",
       "      <td>3</td>\n",
       "    </tr>\n",
       "    <tr>\n",
       "      <th>3</th>\n",
       "      <td>1854e56c-491f-11eb-806e-000d3a38a36f</td>\n",
       "      <td>135</td>\n",
       "      <td>2.000</td>\n",
       "      <td>121.970</td>\n",
       "      <td>3</td>\n",
       "      <td>1</td>\n",
       "      <td>1</td>\n",
       "    </tr>\n",
       "    <tr>\n",
       "      <th>4</th>\n",
       "      <td>d6ea1074-f1f5-11e9-9346-000d3a38a36f</td>\n",
       "      <td>86</td>\n",
       "      <td>2.000</td>\n",
       "      <td>209.980</td>\n",
       "      <td>3</td>\n",
       "      <td>1</td>\n",
       "      <td>1</td>\n",
       "    </tr>\n",
       "  </tbody>\n",
       "</table>\n",
       "</div>"
      ],
      "text/plain": [
       "                              master_id  recency  frequency  monetary  \\\n",
       "0  cc294636-19f0-11eb-8d74-000d3a38a36f       95      5.000   939.370   \n",
       "1  f431bd5a-ab7b-11e9-a2fc-000d3a38a36f      105     21.000  2013.550   \n",
       "2  69b69676-1a40-11ea-941b-000d3a38a36f      186      5.000   585.320   \n",
       "3  1854e56c-491f-11eb-806e-000d3a38a36f      135      2.000   121.970   \n",
       "4  d6ea1074-f1f5-11e9-9346-000d3a38a36f       86      2.000   209.980   \n",
       "\n",
       "  recency_score frequency_score monetary_score  \n",
       "0             3               4              4  \n",
       "1             3               5              5  \n",
       "2             2               4              3  \n",
       "3             3               1              1  \n",
       "4             3               1              1  "
      ]
     },
     "execution_count": 19,
     "metadata": {},
     "output_type": "execute_result"
    }
   ],
   "source": [
    "RFM.head ()"
   ]
  },
  {
   "cell_type": "markdown",
   "id": "9d7710fd",
   "metadata": {
    "papermill": {
     "duration": 0.013503,
     "end_time": "2025-02-05T15:44:05.787808",
     "exception": false,
     "start_time": "2025-02-05T15:44:05.774305",
     "status": "completed"
    },
    "tags": []
   },
   "source": [
    "**Step 3: Combine recency_score and frequency_score into one variable and save it as RF_SCORE.**"
   ]
  },
  {
   "cell_type": "code",
   "execution_count": 20,
   "id": "e5cecbb3",
   "metadata": {
    "execution": {
     "iopub.execute_input": "2025-02-05T15:44:05.817570Z",
     "iopub.status.busy": "2025-02-05T15:44:05.817127Z",
     "iopub.status.idle": "2025-02-05T15:44:05.835816Z",
     "shell.execute_reply": "2025-02-05T15:44:05.834675Z"
    },
    "papermill": {
     "duration": 0.03569,
     "end_time": "2025-02-05T15:44:05.837773",
     "exception": false,
     "start_time": "2025-02-05T15:44:05.802083",
     "status": "completed"
    },
    "tags": []
   },
   "outputs": [],
   "source": [
    "RFM[\"RF_SCORE\"]= (RFM[\"recency_score\"].astype(str) + RFM[\"frequency_score\"].astype(str))"
   ]
  },
  {
   "cell_type": "code",
   "execution_count": 21,
   "id": "6a50a631",
   "metadata": {
    "execution": {
     "iopub.execute_input": "2025-02-05T15:44:05.867332Z",
     "iopub.status.busy": "2025-02-05T15:44:05.866919Z",
     "iopub.status.idle": "2025-02-05T15:44:05.879009Z",
     "shell.execute_reply": "2025-02-05T15:44:05.877847Z"
    },
    "papermill": {
     "duration": 0.028066,
     "end_time": "2025-02-05T15:44:05.880887",
     "exception": false,
     "start_time": "2025-02-05T15:44:05.852821",
     "status": "completed"
    },
    "tags": []
   },
   "outputs": [
    {
     "data": {
      "text/html": [
       "<div>\n",
       "<style scoped>\n",
       "    .dataframe tbody tr th:only-of-type {\n",
       "        vertical-align: middle;\n",
       "    }\n",
       "\n",
       "    .dataframe tbody tr th {\n",
       "        vertical-align: top;\n",
       "    }\n",
       "\n",
       "    .dataframe thead th {\n",
       "        text-align: right;\n",
       "    }\n",
       "</style>\n",
       "<table border=\"1\" class=\"dataframe\">\n",
       "  <thead>\n",
       "    <tr style=\"text-align: right;\">\n",
       "      <th></th>\n",
       "      <th>master_id</th>\n",
       "      <th>recency</th>\n",
       "      <th>frequency</th>\n",
       "      <th>monetary</th>\n",
       "      <th>recency_score</th>\n",
       "      <th>frequency_score</th>\n",
       "      <th>monetary_score</th>\n",
       "      <th>RF_SCORE</th>\n",
       "    </tr>\n",
       "  </thead>\n",
       "  <tbody>\n",
       "    <tr>\n",
       "      <th>0</th>\n",
       "      <td>cc294636-19f0-11eb-8d74-000d3a38a36f</td>\n",
       "      <td>95</td>\n",
       "      <td>5.000</td>\n",
       "      <td>939.370</td>\n",
       "      <td>3</td>\n",
       "      <td>4</td>\n",
       "      <td>4</td>\n",
       "      <td>34</td>\n",
       "    </tr>\n",
       "    <tr>\n",
       "      <th>1</th>\n",
       "      <td>f431bd5a-ab7b-11e9-a2fc-000d3a38a36f</td>\n",
       "      <td>105</td>\n",
       "      <td>21.000</td>\n",
       "      <td>2013.550</td>\n",
       "      <td>3</td>\n",
       "      <td>5</td>\n",
       "      <td>5</td>\n",
       "      <td>35</td>\n",
       "    </tr>\n",
       "    <tr>\n",
       "      <th>2</th>\n",
       "      <td>69b69676-1a40-11ea-941b-000d3a38a36f</td>\n",
       "      <td>186</td>\n",
       "      <td>5.000</td>\n",
       "      <td>585.320</td>\n",
       "      <td>2</td>\n",
       "      <td>4</td>\n",
       "      <td>3</td>\n",
       "      <td>24</td>\n",
       "    </tr>\n",
       "    <tr>\n",
       "      <th>3</th>\n",
       "      <td>1854e56c-491f-11eb-806e-000d3a38a36f</td>\n",
       "      <td>135</td>\n",
       "      <td>2.000</td>\n",
       "      <td>121.970</td>\n",
       "      <td>3</td>\n",
       "      <td>1</td>\n",
       "      <td>1</td>\n",
       "      <td>31</td>\n",
       "    </tr>\n",
       "    <tr>\n",
       "      <th>4</th>\n",
       "      <td>d6ea1074-f1f5-11e9-9346-000d3a38a36f</td>\n",
       "      <td>86</td>\n",
       "      <td>2.000</td>\n",
       "      <td>209.980</td>\n",
       "      <td>3</td>\n",
       "      <td>1</td>\n",
       "      <td>1</td>\n",
       "      <td>31</td>\n",
       "    </tr>\n",
       "  </tbody>\n",
       "</table>\n",
       "</div>"
      ],
      "text/plain": [
       "                              master_id  recency  frequency  monetary  \\\n",
       "0  cc294636-19f0-11eb-8d74-000d3a38a36f       95      5.000   939.370   \n",
       "1  f431bd5a-ab7b-11e9-a2fc-000d3a38a36f      105     21.000  2013.550   \n",
       "2  69b69676-1a40-11ea-941b-000d3a38a36f      186      5.000   585.320   \n",
       "3  1854e56c-491f-11eb-806e-000d3a38a36f      135      2.000   121.970   \n",
       "4  d6ea1074-f1f5-11e9-9346-000d3a38a36f       86      2.000   209.980   \n",
       "\n",
       "  recency_score frequency_score monetary_score RF_SCORE  \n",
       "0             3               4              4       34  \n",
       "1             3               5              5       35  \n",
       "2             2               4              3       24  \n",
       "3             3               1              1       31  \n",
       "4             3               1              1       31  "
      ]
     },
     "execution_count": 21,
     "metadata": {},
     "output_type": "execute_result"
    }
   ],
   "source": [
    "RFM.head ()"
   ]
  },
  {
   "cell_type": "markdown",
   "id": "8f9286f0",
   "metadata": {
    "papermill": {
     "duration": 0.01448,
     "end_time": "2025-02-05T15:44:05.909754",
     "exception": false,
     "start_time": "2025-02-05T15:44:05.895274",
     "status": "completed"
    },
    "tags": []
   },
   "source": [
    "# #Task 4: Defining RF Score as Segments"
   ]
  },
  {
   "cell_type": "markdown",
   "id": "1cd8aa3f",
   "metadata": {
    "papermill": {
     "duration": 0.013452,
     "end_time": "2025-02-05T15:44:05.937311",
     "exception": false,
     "start_time": "2025-02-05T15:44:05.923859",
     "status": "completed"
    },
    "tags": []
   },
   "source": [
    "**Step 1: Define segments for the created RF scores.**"
   ]
  },
  {
   "cell_type": "code",
   "execution_count": 22,
   "id": "8c64fbef",
   "metadata": {
    "execution": {
     "iopub.execute_input": "2025-02-05T15:44:05.967273Z",
     "iopub.status.busy": "2025-02-05T15:44:05.966883Z",
     "iopub.status.idle": "2025-02-05T15:44:05.971886Z",
     "shell.execute_reply": "2025-02-05T15:44:05.970545Z"
    },
    "papermill": {
     "duration": 0.022259,
     "end_time": "2025-02-05T15:44:05.973939",
     "exception": false,
     "start_time": "2025-02-05T15:44:05.951680",
     "status": "completed"
    },
    "tags": []
   },
   "outputs": [],
   "source": [
    "seg_map = {\n",
    "    r'[1-2][1-2]': 'hibernating',\n",
    "    r'[1-2][3-4]': 'at_Risk',\n",
    "    r'[1-2]5': 'cant_loose',\n",
    "    r'3[1-2]': 'about_to_sleep',\n",
    "    r'33': 'need_attention',\n",
    "    r'[3-4][4-5]': 'loyal_customers',\n",
    "    r'41': 'promising',\n",
    "    r'51': 'new_customers',\n",
    "    r'[4-5][2-3]': 'potential_loyalists',\n",
    "    r'5[4-5]': 'champions'\n",
    "}"
   ]
  },
  {
   "cell_type": "code",
   "execution_count": 23,
   "id": "19664fa6",
   "metadata": {
    "execution": {
     "iopub.execute_input": "2025-02-05T15:44:06.003623Z",
     "iopub.status.busy": "2025-02-05T15:44:06.003222Z",
     "iopub.status.idle": "2025-02-05T15:44:06.220712Z",
     "shell.execute_reply": "2025-02-05T15:44:06.219545Z"
    },
    "papermill": {
     "duration": 0.234797,
     "end_time": "2025-02-05T15:44:06.222662",
     "exception": false,
     "start_time": "2025-02-05T15:44:05.987865",
     "status": "completed"
    },
    "tags": []
   },
   "outputs": [],
   "source": [
    "RFM['segment'] = RFM['RF_SCORE'].replace(seg_map, regex=True)"
   ]
  },
  {
   "cell_type": "code",
   "execution_count": 24,
   "id": "1b598a8d",
   "metadata": {
    "execution": {
     "iopub.execute_input": "2025-02-05T15:44:06.251938Z",
     "iopub.status.busy": "2025-02-05T15:44:06.251594Z",
     "iopub.status.idle": "2025-02-05T15:44:06.265083Z",
     "shell.execute_reply": "2025-02-05T15:44:06.264032Z"
    },
    "papermill": {
     "duration": 0.030103,
     "end_time": "2025-02-05T15:44:06.267100",
     "exception": false,
     "start_time": "2025-02-05T15:44:06.236997",
     "status": "completed"
    },
    "tags": []
   },
   "outputs": [
    {
     "data": {
      "text/html": [
       "<div>\n",
       "<style scoped>\n",
       "    .dataframe tbody tr th:only-of-type {\n",
       "        vertical-align: middle;\n",
       "    }\n",
       "\n",
       "    .dataframe tbody tr th {\n",
       "        vertical-align: top;\n",
       "    }\n",
       "\n",
       "    .dataframe thead th {\n",
       "        text-align: right;\n",
       "    }\n",
       "</style>\n",
       "<table border=\"1\" class=\"dataframe\">\n",
       "  <thead>\n",
       "    <tr style=\"text-align: right;\">\n",
       "      <th></th>\n",
       "      <th>master_id</th>\n",
       "      <th>recency</th>\n",
       "      <th>frequency</th>\n",
       "      <th>monetary</th>\n",
       "      <th>recency_score</th>\n",
       "      <th>frequency_score</th>\n",
       "      <th>monetary_score</th>\n",
       "      <th>RF_SCORE</th>\n",
       "      <th>segment</th>\n",
       "    </tr>\n",
       "  </thead>\n",
       "  <tbody>\n",
       "    <tr>\n",
       "      <th>0</th>\n",
       "      <td>cc294636-19f0-11eb-8d74-000d3a38a36f</td>\n",
       "      <td>95</td>\n",
       "      <td>5.000</td>\n",
       "      <td>939.370</td>\n",
       "      <td>3</td>\n",
       "      <td>4</td>\n",
       "      <td>4</td>\n",
       "      <td>34</td>\n",
       "      <td>loyal_customers</td>\n",
       "    </tr>\n",
       "    <tr>\n",
       "      <th>1</th>\n",
       "      <td>f431bd5a-ab7b-11e9-a2fc-000d3a38a36f</td>\n",
       "      <td>105</td>\n",
       "      <td>21.000</td>\n",
       "      <td>2013.550</td>\n",
       "      <td>3</td>\n",
       "      <td>5</td>\n",
       "      <td>5</td>\n",
       "      <td>35</td>\n",
       "      <td>loyal_customers</td>\n",
       "    </tr>\n",
       "    <tr>\n",
       "      <th>2</th>\n",
       "      <td>69b69676-1a40-11ea-941b-000d3a38a36f</td>\n",
       "      <td>186</td>\n",
       "      <td>5.000</td>\n",
       "      <td>585.320</td>\n",
       "      <td>2</td>\n",
       "      <td>4</td>\n",
       "      <td>3</td>\n",
       "      <td>24</td>\n",
       "      <td>at_Risk</td>\n",
       "    </tr>\n",
       "    <tr>\n",
       "      <th>3</th>\n",
       "      <td>1854e56c-491f-11eb-806e-000d3a38a36f</td>\n",
       "      <td>135</td>\n",
       "      <td>2.000</td>\n",
       "      <td>121.970</td>\n",
       "      <td>3</td>\n",
       "      <td>1</td>\n",
       "      <td>1</td>\n",
       "      <td>31</td>\n",
       "      <td>about_to_sleep</td>\n",
       "    </tr>\n",
       "    <tr>\n",
       "      <th>4</th>\n",
       "      <td>d6ea1074-f1f5-11e9-9346-000d3a38a36f</td>\n",
       "      <td>86</td>\n",
       "      <td>2.000</td>\n",
       "      <td>209.980</td>\n",
       "      <td>3</td>\n",
       "      <td>1</td>\n",
       "      <td>1</td>\n",
       "      <td>31</td>\n",
       "      <td>about_to_sleep</td>\n",
       "    </tr>\n",
       "  </tbody>\n",
       "</table>\n",
       "</div>"
      ],
      "text/plain": [
       "                              master_id  recency  frequency  monetary  \\\n",
       "0  cc294636-19f0-11eb-8d74-000d3a38a36f       95      5.000   939.370   \n",
       "1  f431bd5a-ab7b-11e9-a2fc-000d3a38a36f      105     21.000  2013.550   \n",
       "2  69b69676-1a40-11ea-941b-000d3a38a36f      186      5.000   585.320   \n",
       "3  1854e56c-491f-11eb-806e-000d3a38a36f      135      2.000   121.970   \n",
       "4  d6ea1074-f1f5-11e9-9346-000d3a38a36f       86      2.000   209.980   \n",
       "\n",
       "  recency_score frequency_score monetary_score RF_SCORE          segment  \n",
       "0             3               4              4       34  loyal_customers  \n",
       "1             3               5              5       35  loyal_customers  \n",
       "2             2               4              3       24          at_Risk  \n",
       "3             3               1              1       31   about_to_sleep  \n",
       "4             3               1              1       31   about_to_sleep  "
      ]
     },
     "execution_count": 24,
     "metadata": {},
     "output_type": "execute_result"
    }
   ],
   "source": [
    "RFM.head ()"
   ]
  },
  {
   "cell_type": "markdown",
   "id": "1f85766f",
   "metadata": {
    "papermill": {
     "duration": 0.013639,
     "end_time": "2025-02-05T15:44:06.294882",
     "exception": false,
     "start_time": "2025-02-05T15:44:06.281243",
     "status": "completed"
    },
    "tags": []
   },
   "source": [
    "# #Task 5: Action Time! "
   ]
  },
  {
   "cell_type": "markdown",
   "id": "24333bd9",
   "metadata": {
    "papermill": {
     "duration": 0.015474,
     "end_time": "2025-02-05T15:44:06.325089",
     "exception": false,
     "start_time": "2025-02-05T15:44:06.309615",
     "status": "completed"
    },
    "tags": []
   },
   "source": [
    "**Step 1: Check the averages of recency, frequency, and monetary for the segments.**"
   ]
  },
  {
   "cell_type": "code",
   "execution_count": 25,
   "id": "d4bf54b2",
   "metadata": {
    "execution": {
     "iopub.execute_input": "2025-02-05T15:44:06.354036Z",
     "iopub.status.busy": "2025-02-05T15:44:06.353658Z",
     "iopub.status.idle": "2025-02-05T15:44:06.439383Z",
     "shell.execute_reply": "2025-02-05T15:44:06.438177Z"
    },
    "papermill": {
     "duration": 0.102256,
     "end_time": "2025-02-05T15:44:06.441173",
     "exception": false,
     "start_time": "2025-02-05T15:44:06.338917",
     "status": "completed"
    },
    "tags": []
   },
   "outputs": [
    {
     "data": {
      "text/html": [
       "<div>\n",
       "<style scoped>\n",
       "    .dataframe tbody tr th:only-of-type {\n",
       "        vertical-align: middle;\n",
       "    }\n",
       "\n",
       "    .dataframe tbody tr th {\n",
       "        vertical-align: top;\n",
       "    }\n",
       "\n",
       "    .dataframe thead tr th {\n",
       "        text-align: left;\n",
       "    }\n",
       "\n",
       "    .dataframe thead tr:last-of-type th {\n",
       "        text-align: right;\n",
       "    }\n",
       "</style>\n",
       "<table border=\"1\" class=\"dataframe\">\n",
       "  <thead>\n",
       "    <tr>\n",
       "      <th></th>\n",
       "      <th colspan=\"2\" halign=\"left\">recency</th>\n",
       "      <th colspan=\"2\" halign=\"left\">frequency</th>\n",
       "      <th colspan=\"2\" halign=\"left\">monetary</th>\n",
       "    </tr>\n",
       "    <tr>\n",
       "      <th></th>\n",
       "      <th>mean</th>\n",
       "      <th>count</th>\n",
       "      <th>mean</th>\n",
       "      <th>count</th>\n",
       "      <th>mean</th>\n",
       "      <th>count</th>\n",
       "    </tr>\n",
       "    <tr>\n",
       "      <th>segment</th>\n",
       "      <th></th>\n",
       "      <th></th>\n",
       "      <th></th>\n",
       "      <th></th>\n",
       "      <th></th>\n",
       "      <th></th>\n",
       "    </tr>\n",
       "  </thead>\n",
       "  <tbody>\n",
       "    <tr>\n",
       "      <th>about_to_sleep</th>\n",
       "      <td>113.785</td>\n",
       "      <td>1629</td>\n",
       "      <td>2.401</td>\n",
       "      <td>1629</td>\n",
       "      <td>359.009</td>\n",
       "      <td>1629</td>\n",
       "    </tr>\n",
       "    <tr>\n",
       "      <th>at_Risk</th>\n",
       "      <td>241.607</td>\n",
       "      <td>3131</td>\n",
       "      <td>4.472</td>\n",
       "      <td>3131</td>\n",
       "      <td>646.610</td>\n",
       "      <td>3131</td>\n",
       "    </tr>\n",
       "    <tr>\n",
       "      <th>cant_loose</th>\n",
       "      <td>235.444</td>\n",
       "      <td>1200</td>\n",
       "      <td>10.698</td>\n",
       "      <td>1200</td>\n",
       "      <td>1474.468</td>\n",
       "      <td>1200</td>\n",
       "    </tr>\n",
       "    <tr>\n",
       "      <th>champions</th>\n",
       "      <td>17.107</td>\n",
       "      <td>1932</td>\n",
       "      <td>8.934</td>\n",
       "      <td>1932</td>\n",
       "      <td>1406.625</td>\n",
       "      <td>1932</td>\n",
       "    </tr>\n",
       "    <tr>\n",
       "      <th>hibernating</th>\n",
       "      <td>247.950</td>\n",
       "      <td>3604</td>\n",
       "      <td>2.394</td>\n",
       "      <td>3604</td>\n",
       "      <td>366.267</td>\n",
       "      <td>3604</td>\n",
       "    </tr>\n",
       "    <tr>\n",
       "      <th>loyal_customers</th>\n",
       "      <td>82.595</td>\n",
       "      <td>3361</td>\n",
       "      <td>8.375</td>\n",
       "      <td>3361</td>\n",
       "      <td>1216.819</td>\n",
       "      <td>3361</td>\n",
       "    </tr>\n",
       "    <tr>\n",
       "      <th>need_attention</th>\n",
       "      <td>113.829</td>\n",
       "      <td>823</td>\n",
       "      <td>3.728</td>\n",
       "      <td>823</td>\n",
       "      <td>562.143</td>\n",
       "      <td>823</td>\n",
       "    </tr>\n",
       "    <tr>\n",
       "      <th>new_customers</th>\n",
       "      <td>17.918</td>\n",
       "      <td>680</td>\n",
       "      <td>2.000</td>\n",
       "      <td>680</td>\n",
       "      <td>339.956</td>\n",
       "      <td>680</td>\n",
       "    </tr>\n",
       "    <tr>\n",
       "      <th>potential_loyalists</th>\n",
       "      <td>37.156</td>\n",
       "      <td>2938</td>\n",
       "      <td>3.304</td>\n",
       "      <td>2938</td>\n",
       "      <td>533.184</td>\n",
       "      <td>2938</td>\n",
       "    </tr>\n",
       "    <tr>\n",
       "      <th>promising</th>\n",
       "      <td>58.921</td>\n",
       "      <td>647</td>\n",
       "      <td>2.000</td>\n",
       "      <td>647</td>\n",
       "      <td>335.673</td>\n",
       "      <td>647</td>\n",
       "    </tr>\n",
       "  </tbody>\n",
       "</table>\n",
       "</div>"
      ],
      "text/plain": [
       "                    recency       frequency       monetary      \n",
       "                       mean count      mean count     mean count\n",
       "segment                                                         \n",
       "about_to_sleep      113.785  1629     2.401  1629  359.009  1629\n",
       "at_Risk             241.607  3131     4.472  3131  646.610  3131\n",
       "cant_loose          235.444  1200    10.698  1200 1474.468  1200\n",
       "champions            17.107  1932     8.934  1932 1406.625  1932\n",
       "hibernating         247.950  3604     2.394  3604  366.267  3604\n",
       "loyal_customers      82.595  3361     8.375  3361 1216.819  3361\n",
       "need_attention      113.829   823     3.728   823  562.143   823\n",
       "new_customers        17.918   680     2.000   680  339.956   680\n",
       "potential_loyalists  37.156  2938     3.304  2938  533.184  2938\n",
       "promising            58.921   647     2.000   647  335.673   647"
      ]
     },
     "execution_count": 25,
     "metadata": {},
     "output_type": "execute_result"
    }
   ],
   "source": [
    "RFM.groupby(\"segment\").agg({\"recency\" : [\"mean\", \"count\"],\n",
    "                            \"frequency\" : [\"mean\", \"count\"],\n",
    "                           \"monetary\" : [\"mean\", \"count\"]})"
   ]
  },
  {
   "cell_type": "markdown",
   "id": "9e6b4d88",
   "metadata": {
    "papermill": {
     "duration": 0.014512,
     "end_time": "2025-02-05T15:44:06.470882",
     "exception": false,
     "start_time": "2025-02-05T15:44:06.456370",
     "status": "completed"
    },
    "tags": []
   },
   "source": [
    "**Step 2: Use RFM analysis to find customers for the following 2 cases and save their customer IDs in a CSV file.**"
   ]
  },
  {
   "cell_type": "markdown",
   "id": "12018787",
   "metadata": {
    "papermill": {
     "duration": 0.014158,
     "end_time": "2025-02-05T15:44:06.499317",
     "exception": false,
     "start_time": "2025-02-05T15:44:06.485159",
     "status": "completed"
    },
    "tags": []
   },
   "source": [
    "**a. FLO is adding a new women's shoe brand. The product prices of the new brand are higher than the general customer preferences. Therefore, the company wants to contact customers who will be interested in the brand’s promotion and product sales. The target customers are loyal ones (champions, loyal_customers) and those who have bought from the women's category. Save the IDs of these customers in a CSV file.**"
   ]
  },
  {
   "cell_type": "code",
   "execution_count": 26,
   "id": "9dadd5f6",
   "metadata": {
    "execution": {
     "iopub.execute_input": "2025-02-05T15:44:06.589729Z",
     "iopub.status.busy": "2025-02-05T15:44:06.588969Z",
     "iopub.status.idle": "2025-02-05T15:44:06.612829Z",
     "shell.execute_reply": "2025-02-05T15:44:06.611447Z"
    },
    "papermill": {
     "duration": 0.044592,
     "end_time": "2025-02-05T15:44:06.615174",
     "exception": false,
     "start_time": "2025-02-05T15:44:06.570582",
     "status": "completed"
    },
    "tags": []
   },
   "outputs": [],
   "source": [
    "segment_type = (RFM[(RFM[\"segment\"]==\"champions\") | (RFM[\"segment\"]==\"loyal_customers\")]) \n",
    "category_type = df[(df[\"interested_in_categories_12\"]).str.contains(\"KADIN\")]"
   ]
  },
  {
   "cell_type": "code",
   "execution_count": 27,
   "id": "3084912f",
   "metadata": {
    "execution": {
     "iopub.execute_input": "2025-02-05T15:44:06.646509Z",
     "iopub.status.busy": "2025-02-05T15:44:06.646075Z",
     "iopub.status.idle": "2025-02-05T15:44:06.666966Z",
     "shell.execute_reply": "2025-02-05T15:44:06.665848Z"
    },
    "papermill": {
     "duration": 0.039434,
     "end_time": "2025-02-05T15:44:06.669099",
     "exception": false,
     "start_time": "2025-02-05T15:44:06.629665",
     "status": "completed"
    },
    "tags": []
   },
   "outputs": [],
   "source": [
    "new_women_shoes_brand = pd.merge(segment_type,category_type[[\"interested_in_categories_12\",\"master_id\"]],on=[\"master_id\"])"
   ]
  },
  {
   "cell_type": "code",
   "execution_count": 28,
   "id": "c879c9af",
   "metadata": {
    "execution": {
     "iopub.execute_input": "2025-02-05T15:44:06.703282Z",
     "iopub.status.busy": "2025-02-05T15:44:06.702863Z",
     "iopub.status.idle": "2025-02-05T15:44:06.717670Z",
     "shell.execute_reply": "2025-02-05T15:44:06.716360Z"
    },
    "papermill": {
     "duration": 0.035273,
     "end_time": "2025-02-05T15:44:06.719929",
     "exception": false,
     "start_time": "2025-02-05T15:44:06.684656",
     "status": "completed"
    },
    "tags": []
   },
   "outputs": [
    {
     "data": {
      "text/html": [
       "<div>\n",
       "<style scoped>\n",
       "    .dataframe tbody tr th:only-of-type {\n",
       "        vertical-align: middle;\n",
       "    }\n",
       "\n",
       "    .dataframe tbody tr th {\n",
       "        vertical-align: top;\n",
       "    }\n",
       "\n",
       "    .dataframe thead th {\n",
       "        text-align: right;\n",
       "    }\n",
       "</style>\n",
       "<table border=\"1\" class=\"dataframe\">\n",
       "  <thead>\n",
       "    <tr style=\"text-align: right;\">\n",
       "      <th></th>\n",
       "      <th>master_id</th>\n",
       "      <th>recency</th>\n",
       "      <th>frequency</th>\n",
       "      <th>monetary</th>\n",
       "      <th>recency_score</th>\n",
       "      <th>frequency_score</th>\n",
       "      <th>monetary_score</th>\n",
       "      <th>RF_SCORE</th>\n",
       "      <th>segment</th>\n",
       "      <th>interested_in_categories_12</th>\n",
       "    </tr>\n",
       "  </thead>\n",
       "  <tbody>\n",
       "    <tr>\n",
       "      <th>0</th>\n",
       "      <td>cc294636-19f0-11eb-8d74-000d3a38a36f</td>\n",
       "      <td>95</td>\n",
       "      <td>5.000</td>\n",
       "      <td>939.370</td>\n",
       "      <td>3</td>\n",
       "      <td>4</td>\n",
       "      <td>4</td>\n",
       "      <td>34</td>\n",
       "      <td>loyal_customers</td>\n",
       "      <td>[KADIN]</td>\n",
       "    </tr>\n",
       "    <tr>\n",
       "      <th>1</th>\n",
       "      <td>f431bd5a-ab7b-11e9-a2fc-000d3a38a36f</td>\n",
       "      <td>105</td>\n",
       "      <td>21.000</td>\n",
       "      <td>2013.550</td>\n",
       "      <td>3</td>\n",
       "      <td>5</td>\n",
       "      <td>5</td>\n",
       "      <td>35</td>\n",
       "      <td>loyal_customers</td>\n",
       "      <td>[ERKEK, COCUK, KADIN, AKTIFSPOR]</td>\n",
       "    </tr>\n",
       "    <tr>\n",
       "      <th>2</th>\n",
       "      <td>cfbda69e-5b4f-11ea-aca7-000d3a38a36f</td>\n",
       "      <td>86</td>\n",
       "      <td>5.000</td>\n",
       "      <td>1054.690</td>\n",
       "      <td>3</td>\n",
       "      <td>4</td>\n",
       "      <td>5</td>\n",
       "      <td>34</td>\n",
       "      <td>loyal_customers</td>\n",
       "      <td>[ERKEK, COCUK, KADIN]</td>\n",
       "    </tr>\n",
       "    <tr>\n",
       "      <th>3</th>\n",
       "      <td>c2e15af2-9eed-11e9-9897-000d3a38a36f</td>\n",
       "      <td>13</td>\n",
       "      <td>20.000</td>\n",
       "      <td>2861.600</td>\n",
       "      <td>5</td>\n",
       "      <td>5</td>\n",
       "      <td>5</td>\n",
       "      <td>55</td>\n",
       "      <td>champions</td>\n",
       "      <td>[COCUK, KADIN, AKTIFSPOR]</td>\n",
       "    </tr>\n",
       "    <tr>\n",
       "      <th>4</th>\n",
       "      <td>fb840306-1219-11ea-a001-000d3a38a36f</td>\n",
       "      <td>116</td>\n",
       "      <td>8.000</td>\n",
       "      <td>923.640</td>\n",
       "      <td>3</td>\n",
       "      <td>5</td>\n",
       "      <td>4</td>\n",
       "      <td>35</td>\n",
       "      <td>loyal_customers</td>\n",
       "      <td>[ERKEK, KADIN, AKTIFSPOR]</td>\n",
       "    </tr>\n",
       "  </tbody>\n",
       "</table>\n",
       "</div>"
      ],
      "text/plain": [
       "                              master_id  recency  frequency  monetary  \\\n",
       "0  cc294636-19f0-11eb-8d74-000d3a38a36f       95      5.000   939.370   \n",
       "1  f431bd5a-ab7b-11e9-a2fc-000d3a38a36f      105     21.000  2013.550   \n",
       "2  cfbda69e-5b4f-11ea-aca7-000d3a38a36f       86      5.000  1054.690   \n",
       "3  c2e15af2-9eed-11e9-9897-000d3a38a36f       13     20.000  2861.600   \n",
       "4  fb840306-1219-11ea-a001-000d3a38a36f      116      8.000   923.640   \n",
       "\n",
       "  recency_score frequency_score monetary_score RF_SCORE          segment  \\\n",
       "0             3               4              4       34  loyal_customers   \n",
       "1             3               5              5       35  loyal_customers   \n",
       "2             3               4              5       34  loyal_customers   \n",
       "3             5               5              5       55        champions   \n",
       "4             3               5              4       35  loyal_customers   \n",
       "\n",
       "        interested_in_categories_12  \n",
       "0                           [KADIN]  \n",
       "1  [ERKEK, COCUK, KADIN, AKTIFSPOR]  \n",
       "2             [ERKEK, COCUK, KADIN]  \n",
       "3         [COCUK, KADIN, AKTIFSPOR]  \n",
       "4         [ERKEK, KADIN, AKTIFSPOR]  "
      ]
     },
     "execution_count": 28,
     "metadata": {},
     "output_type": "execute_result"
    }
   ],
   "source": [
    "new_women_shoes_brand.head ()"
   ]
  },
  {
   "cell_type": "code",
   "execution_count": 29,
   "id": "daf6ab95",
   "metadata": {
    "execution": {
     "iopub.execute_input": "2025-02-05T15:44:06.752041Z",
     "iopub.status.busy": "2025-02-05T15:44:06.751630Z",
     "iopub.status.idle": "2025-02-05T15:44:06.761814Z",
     "shell.execute_reply": "2025-02-05T15:44:06.760535Z"
    },
    "papermill": {
     "duration": 0.028392,
     "end_time": "2025-02-05T15:44:06.763734",
     "exception": false,
     "start_time": "2025-02-05T15:44:06.735342",
     "status": "completed"
    },
    "tags": []
   },
   "outputs": [
    {
     "data": {
      "text/html": [
       "<div>\n",
       "<style scoped>\n",
       "    .dataframe tbody tr th:only-of-type {\n",
       "        vertical-align: middle;\n",
       "    }\n",
       "\n",
       "    .dataframe tbody tr th {\n",
       "        vertical-align: top;\n",
       "    }\n",
       "\n",
       "    .dataframe thead th {\n",
       "        text-align: right;\n",
       "    }\n",
       "</style>\n",
       "<table border=\"1\" class=\"dataframe\">\n",
       "  <thead>\n",
       "    <tr style=\"text-align: right;\">\n",
       "      <th></th>\n",
       "      <th>master_id</th>\n",
       "    </tr>\n",
       "  </thead>\n",
       "  <tbody>\n",
       "    <tr>\n",
       "      <th>0</th>\n",
       "      <td>cc294636-19f0-11eb-8d74-000d3a38a36f</td>\n",
       "    </tr>\n",
       "    <tr>\n",
       "      <th>1</th>\n",
       "      <td>f431bd5a-ab7b-11e9-a2fc-000d3a38a36f</td>\n",
       "    </tr>\n",
       "    <tr>\n",
       "      <th>2</th>\n",
       "      <td>cfbda69e-5b4f-11ea-aca7-000d3a38a36f</td>\n",
       "    </tr>\n",
       "    <tr>\n",
       "      <th>3</th>\n",
       "      <td>c2e15af2-9eed-11e9-9897-000d3a38a36f</td>\n",
       "    </tr>\n",
       "    <tr>\n",
       "      <th>4</th>\n",
       "      <td>fb840306-1219-11ea-a001-000d3a38a36f</td>\n",
       "    </tr>\n",
       "  </tbody>\n",
       "</table>\n",
       "</div>"
      ],
      "text/plain": [
       "                              master_id\n",
       "0  cc294636-19f0-11eb-8d74-000d3a38a36f\n",
       "1  f431bd5a-ab7b-11e9-a2fc-000d3a38a36f\n",
       "2  cfbda69e-5b4f-11ea-aca7-000d3a38a36f\n",
       "3  c2e15af2-9eed-11e9-9897-000d3a38a36f\n",
       "4  fb840306-1219-11ea-a001-000d3a38a36f"
      ]
     },
     "execution_count": 29,
     "metadata": {},
     "output_type": "execute_result"
    }
   ],
   "source": [
    "new_women_shoes_brand_file = new_women_shoes_brand[['master_id']]\n",
    "new_women_shoes_brand_file.head ()\n"
   ]
  },
  {
   "cell_type": "code",
   "execution_count": 30,
   "id": "611f3b98",
   "metadata": {
    "execution": {
     "iopub.execute_input": "2025-02-05T15:44:06.795834Z",
     "iopub.status.busy": "2025-02-05T15:44:06.795329Z",
     "iopub.status.idle": "2025-02-05T15:44:06.810854Z",
     "shell.execute_reply": "2025-02-05T15:44:06.809608Z"
    },
    "papermill": {
     "duration": 0.034156,
     "end_time": "2025-02-05T15:44:06.812849",
     "exception": false,
     "start_time": "2025-02-05T15:44:06.778693",
     "status": "completed"
    },
    "tags": []
   },
   "outputs": [],
   "source": [
    "new_women_shoes_brand_file.to_csv(\"new_women_shoes_brand.csv\")"
   ]
  },
  {
   "cell_type": "markdown",
   "id": "127dc2ca",
   "metadata": {
    "papermill": {
     "duration": 0.014378,
     "end_time": "2025-02-05T15:44:06.842139",
     "exception": false,
     "start_time": "2025-02-05T15:44:06.827761",
     "status": "completed"
    },
    "tags": []
   },
   "source": [
    "**b. A 40% discount is planned for men's and children's products. The company wants to target customers who have previously bought from the relevant categories, have not made a purchase for a long time, are at risk of being lost, those who are dormant, and new customers. Save the IDs of these customers in a CSV file.**\n",
    "\n"
   ]
  },
  {
   "cell_type": "code",
   "execution_count": 31,
   "id": "6ea18b2a",
   "metadata": {
    "execution": {
     "iopub.execute_input": "2025-02-05T15:44:06.875956Z",
     "iopub.status.busy": "2025-02-05T15:44:06.875602Z",
     "iopub.status.idle": "2025-02-05T15:44:06.907655Z",
     "shell.execute_reply": "2025-02-05T15:44:06.906631Z"
    },
    "papermill": {
     "duration": 0.051011,
     "end_time": "2025-02-05T15:44:06.909751",
     "exception": false,
     "start_time": "2025-02-05T15:44:06.858740",
     "status": "completed"
    },
    "tags": []
   },
   "outputs": [],
   "source": [
    "men_segment_type = RFM[RFM[\"segment\"].str.contains(\"at_Risk|cant_loose|about_to_sleep|new_customers\")]\n",
    "men_child_category_type = df[df[\"interested_in_categories_12\"].str.contains(\"ERKEK|COCUK\")]"
   ]
  },
  {
   "cell_type": "code",
   "execution_count": 32,
   "id": "3e40cc67",
   "metadata": {
    "execution": {
     "iopub.execute_input": "2025-02-05T15:44:06.940624Z",
     "iopub.status.busy": "2025-02-05T15:44:06.940160Z",
     "iopub.status.idle": "2025-02-05T15:44:06.957312Z",
     "shell.execute_reply": "2025-02-05T15:44:06.956066Z"
    },
    "papermill": {
     "duration": 0.034809,
     "end_time": "2025-02-05T15:44:06.959318",
     "exception": false,
     "start_time": "2025-02-05T15:44:06.924509",
     "status": "completed"
    },
    "tags": []
   },
   "outputs": [],
   "source": [
    "men_child_discount = pd.merge(men_segment_type,men_child_category_type[[\"interested_in_categories_12\",\"master_id\"]],on=[\"master_id\"])"
   ]
  },
  {
   "cell_type": "code",
   "execution_count": 33,
   "id": "d01da52b",
   "metadata": {
    "execution": {
     "iopub.execute_input": "2025-02-05T15:44:06.991749Z",
     "iopub.status.busy": "2025-02-05T15:44:06.991313Z",
     "iopub.status.idle": "2025-02-05T15:44:07.009633Z",
     "shell.execute_reply": "2025-02-05T15:44:07.007732Z"
    },
    "papermill": {
     "duration": 0.037389,
     "end_time": "2025-02-05T15:44:07.011780",
     "exception": false,
     "start_time": "2025-02-05T15:44:06.974391",
     "status": "completed"
    },
    "tags": []
   },
   "outputs": [
    {
     "data": {
      "text/html": [
       "<div>\n",
       "<style scoped>\n",
       "    .dataframe tbody tr th:only-of-type {\n",
       "        vertical-align: middle;\n",
       "    }\n",
       "\n",
       "    .dataframe tbody tr th {\n",
       "        vertical-align: top;\n",
       "    }\n",
       "\n",
       "    .dataframe thead th {\n",
       "        text-align: right;\n",
       "    }\n",
       "</style>\n",
       "<table border=\"1\" class=\"dataframe\">\n",
       "  <thead>\n",
       "    <tr style=\"text-align: right;\">\n",
       "      <th></th>\n",
       "      <th>master_id</th>\n",
       "      <th>recency</th>\n",
       "      <th>frequency</th>\n",
       "      <th>monetary</th>\n",
       "      <th>recency_score</th>\n",
       "      <th>frequency_score</th>\n",
       "      <th>monetary_score</th>\n",
       "      <th>RF_SCORE</th>\n",
       "      <th>segment</th>\n",
       "      <th>interested_in_categories_12</th>\n",
       "    </tr>\n",
       "  </thead>\n",
       "  <tbody>\n",
       "    <tr>\n",
       "      <th>0</th>\n",
       "      <td>69b69676-1a40-11ea-941b-000d3a38a36f</td>\n",
       "      <td>186</td>\n",
       "      <td>5.000</td>\n",
       "      <td>585.320</td>\n",
       "      <td>2</td>\n",
       "      <td>4</td>\n",
       "      <td>3</td>\n",
       "      <td>24</td>\n",
       "      <td>at_Risk</td>\n",
       "      <td>[ERKEK, KADIN]</td>\n",
       "    </tr>\n",
       "    <tr>\n",
       "      <th>1</th>\n",
       "      <td>1854e56c-491f-11eb-806e-000d3a38a36f</td>\n",
       "      <td>135</td>\n",
       "      <td>2.000</td>\n",
       "      <td>121.970</td>\n",
       "      <td>3</td>\n",
       "      <td>1</td>\n",
       "      <td>1</td>\n",
       "      <td>31</td>\n",
       "      <td>about_to_sleep</td>\n",
       "      <td>[AKTIFCOCUK, COCUK]</td>\n",
       "    </tr>\n",
       "    <tr>\n",
       "      <th>2</th>\n",
       "      <td>13ed97a4-b167-11e9-89fa-000d3a38a36f</td>\n",
       "      <td>288</td>\n",
       "      <td>8.000</td>\n",
       "      <td>932.360</td>\n",
       "      <td>1</td>\n",
       "      <td>5</td>\n",
       "      <td>4</td>\n",
       "      <td>15</td>\n",
       "      <td>cant_loose</td>\n",
       "      <td>[AKTIFCOCUK, COCUK, KADIN]</td>\n",
       "    </tr>\n",
       "    <tr>\n",
       "      <th>3</th>\n",
       "      <td>d9b77226-a509-11e9-a2fc-000d3a38a36f</td>\n",
       "      <td>202</td>\n",
       "      <td>5.000</td>\n",
       "      <td>495.250</td>\n",
       "      <td>2</td>\n",
       "      <td>4</td>\n",
       "      <td>3</td>\n",
       "      <td>24</td>\n",
       "      <td>at_Risk</td>\n",
       "      <td>[COCUK]</td>\n",
       "    </tr>\n",
       "    <tr>\n",
       "      <th>4</th>\n",
       "      <td>4fbb0cbe-9085-11ea-af25-000d3a38a36f</td>\n",
       "      <td>123</td>\n",
       "      <td>2.000</td>\n",
       "      <td>242.450</td>\n",
       "      <td>3</td>\n",
       "      <td>1</td>\n",
       "      <td>1</td>\n",
       "      <td>31</td>\n",
       "      <td>about_to_sleep</td>\n",
       "      <td>[COCUK, KADIN]</td>\n",
       "    </tr>\n",
       "  </tbody>\n",
       "</table>\n",
       "</div>"
      ],
      "text/plain": [
       "                              master_id  recency  frequency  monetary  \\\n",
       "0  69b69676-1a40-11ea-941b-000d3a38a36f      186      5.000   585.320   \n",
       "1  1854e56c-491f-11eb-806e-000d3a38a36f      135      2.000   121.970   \n",
       "2  13ed97a4-b167-11e9-89fa-000d3a38a36f      288      8.000   932.360   \n",
       "3  d9b77226-a509-11e9-a2fc-000d3a38a36f      202      5.000   495.250   \n",
       "4  4fbb0cbe-9085-11ea-af25-000d3a38a36f      123      2.000   242.450   \n",
       "\n",
       "  recency_score frequency_score monetary_score RF_SCORE         segment  \\\n",
       "0             2               4              3       24         at_Risk   \n",
       "1             3               1              1       31  about_to_sleep   \n",
       "2             1               5              4       15      cant_loose   \n",
       "3             2               4              3       24         at_Risk   \n",
       "4             3               1              1       31  about_to_sleep   \n",
       "\n",
       "  interested_in_categories_12  \n",
       "0              [ERKEK, KADIN]  \n",
       "1         [AKTIFCOCUK, COCUK]  \n",
       "2  [AKTIFCOCUK, COCUK, KADIN]  \n",
       "3                     [COCUK]  \n",
       "4              [COCUK, KADIN]  "
      ]
     },
     "execution_count": 33,
     "metadata": {},
     "output_type": "execute_result"
    }
   ],
   "source": [
    "men_child_discount.head ()"
   ]
  },
  {
   "cell_type": "code",
   "execution_count": 34,
   "id": "1292a152",
   "metadata": {
    "execution": {
     "iopub.execute_input": "2025-02-05T15:44:07.045561Z",
     "iopub.status.busy": "2025-02-05T15:44:07.045143Z",
     "iopub.status.idle": "2025-02-05T15:44:07.055329Z",
     "shell.execute_reply": "2025-02-05T15:44:07.054239Z"
    },
    "papermill": {
     "duration": 0.029692,
     "end_time": "2025-02-05T15:44:07.057236",
     "exception": false,
     "start_time": "2025-02-05T15:44:07.027544",
     "status": "completed"
    },
    "tags": []
   },
   "outputs": [
    {
     "data": {
      "text/html": [
       "<div>\n",
       "<style scoped>\n",
       "    .dataframe tbody tr th:only-of-type {\n",
       "        vertical-align: middle;\n",
       "    }\n",
       "\n",
       "    .dataframe tbody tr th {\n",
       "        vertical-align: top;\n",
       "    }\n",
       "\n",
       "    .dataframe thead th {\n",
       "        text-align: right;\n",
       "    }\n",
       "</style>\n",
       "<table border=\"1\" class=\"dataframe\">\n",
       "  <thead>\n",
       "    <tr style=\"text-align: right;\">\n",
       "      <th></th>\n",
       "      <th>master_id</th>\n",
       "    </tr>\n",
       "  </thead>\n",
       "  <tbody>\n",
       "    <tr>\n",
       "      <th>0</th>\n",
       "      <td>69b69676-1a40-11ea-941b-000d3a38a36f</td>\n",
       "    </tr>\n",
       "    <tr>\n",
       "      <th>1</th>\n",
       "      <td>1854e56c-491f-11eb-806e-000d3a38a36f</td>\n",
       "    </tr>\n",
       "    <tr>\n",
       "      <th>2</th>\n",
       "      <td>13ed97a4-b167-11e9-89fa-000d3a38a36f</td>\n",
       "    </tr>\n",
       "    <tr>\n",
       "      <th>3</th>\n",
       "      <td>d9b77226-a509-11e9-a2fc-000d3a38a36f</td>\n",
       "    </tr>\n",
       "    <tr>\n",
       "      <th>4</th>\n",
       "      <td>4fbb0cbe-9085-11ea-af25-000d3a38a36f</td>\n",
       "    </tr>\n",
       "  </tbody>\n",
       "</table>\n",
       "</div>"
      ],
      "text/plain": [
       "                              master_id\n",
       "0  69b69676-1a40-11ea-941b-000d3a38a36f\n",
       "1  1854e56c-491f-11eb-806e-000d3a38a36f\n",
       "2  13ed97a4-b167-11e9-89fa-000d3a38a36f\n",
       "3  d9b77226-a509-11e9-a2fc-000d3a38a36f\n",
       "4  4fbb0cbe-9085-11ea-af25-000d3a38a36f"
      ]
     },
     "execution_count": 34,
     "metadata": {},
     "output_type": "execute_result"
    }
   ],
   "source": [
    "men_child_discount_file = men_child_discount[['master_id']]\n",
    "men_child_discount_file.head ()"
   ]
  },
  {
   "cell_type": "code",
   "execution_count": 35,
   "id": "abfb90b8",
   "metadata": {
    "execution": {
     "iopub.execute_input": "2025-02-05T15:44:07.089894Z",
     "iopub.status.busy": "2025-02-05T15:44:07.089431Z",
     "iopub.status.idle": "2025-02-05T15:44:07.095419Z",
     "shell.execute_reply": "2025-02-05T15:44:07.094372Z"
    },
    "papermill": {
     "duration": 0.024089,
     "end_time": "2025-02-05T15:44:07.097143",
     "exception": false,
     "start_time": "2025-02-05T15:44:07.073054",
     "status": "completed"
    },
    "tags": []
   },
   "outputs": [
    {
     "data": {
      "text/plain": [
       "(3643, 1)"
      ]
     },
     "execution_count": 35,
     "metadata": {},
     "output_type": "execute_result"
    }
   ],
   "source": [
    "men_child_discount_file.shape"
   ]
  },
  {
   "cell_type": "code",
   "execution_count": 36,
   "id": "3ee1f012",
   "metadata": {
    "execution": {
     "iopub.execute_input": "2025-02-05T15:44:07.128895Z",
     "iopub.status.busy": "2025-02-05T15:44:07.128549Z",
     "iopub.status.idle": "2025-02-05T15:44:07.140701Z",
     "shell.execute_reply": "2025-02-05T15:44:07.139211Z"
    },
    "papermill": {
     "duration": 0.03049,
     "end_time": "2025-02-05T15:44:07.142829",
     "exception": false,
     "start_time": "2025-02-05T15:44:07.112339",
     "status": "completed"
    },
    "tags": []
   },
   "outputs": [],
   "source": [
    "men_child_discount_file.to_csv(\"men_child_discount.csv\")"
   ]
  }
 ],
 "metadata": {
  "kaggle": {
   "accelerator": "none",
   "dataSources": [
    {
     "datasetId": 6608321,
     "sourceId": 10669651,
     "sourceType": "datasetVersion"
    }
   ],
   "dockerImageVersionId": 30839,
   "isGpuEnabled": false,
   "isInternetEnabled": false,
   "language": "python",
   "sourceType": "notebook"
  },
  "kernelspec": {
   "display_name": "Python 3",
   "language": "python",
   "name": "python3"
  },
  "language_info": {
   "codemirror_mode": {
    "name": "ipython",
    "version": 3
   },
   "file_extension": ".py",
   "mimetype": "text/x-python",
   "name": "python",
   "nbconvert_exporter": "python",
   "pygments_lexer": "ipython3",
   "version": "3.10.12"
  },
  "papermill": {
   "default_parameters": {},
   "duration": 7.89325,
   "end_time": "2025-02-05T15:44:07.779657",
   "environment_variables": {},
   "exception": null,
   "input_path": "__notebook__.ipynb",
   "output_path": "__notebook__.ipynb",
   "parameters": {},
   "start_time": "2025-02-05T15:43:59.886407",
   "version": "2.6.0"
  }
 },
 "nbformat": 4,
 "nbformat_minor": 5
}
